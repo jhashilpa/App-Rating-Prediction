{
  "nbformat": 4,
  "nbformat_minor": 0,
  "metadata": {
    "colab": {
      "name": "Untitled7.ipynb",
      "provenance": [],
      "collapsed_sections": []
    },
    "kernelspec": {
      "name": "python3",
      "display_name": "Python 3"
    },
    "language_info": {
      "name": "python"
    }
  },
  "cells": [
    {
      "cell_type": "code",
      "execution_count": null,
      "metadata": {
        "id": "6INCQphpkCpj"
      },
      "outputs": [],
      "source": [
        "import pandas as pd\n",
        "import matplotlib.pyplot as plt\n",
        "import numpy as np\n",
        "import seaborn as sns\n",
        "from sklearn.neighbors import KNeighborsRegressor\n",
        "from sklearn.linear_model  import Ridge,Lasso,RidgeCV, LassoCV, ElasticNet, ElasticNetCV, LinearRegression\n",
        "from sklearn.model_selection import train_test_split\n",
        "from sklearn.preprocessing import StandardScaler \n",
        "from sklearn.metrics import mean_absolute_error, mean_squared_error\n",
        "from sklearn.ensemble import ExtraTreesRegressor\n",
        "from sklearn.ensemble import RandomForestRegressor\n",
        "from sklearn.model_selection import RandomizedSearchCV\n",
        "import pickle\n",
        "import collections\n",
        "%matplotlib inline\n",
        "pd.set_option('display.max.columns',None)"
      ]
    },
    {
      "cell_type": "code",
      "source": [
        "df=pd.read_csv('googleplaystore.csv')\n",
        "print(df.shape)\n",
        "df.head()"
      ],
      "metadata": {
        "colab": {
          "base_uri": "https://localhost:8080/",
          "height": 458
        },
        "id": "7gRJKjMPkEDJ",
        "outputId": "aeacc4ff-d1d2-4c34-d5d6-898199ea4d3d"
      },
      "execution_count": 560,
      "outputs": [
        {
          "output_type": "stream",
          "name": "stdout",
          "text": [
            "(10841, 13)\n"
          ]
        },
        {
          "output_type": "execute_result",
          "data": {
            "text/html": [
              "\n",
              "  <div id=\"df-1ffd3b2b-e0c5-49e9-853e-41799a7541f5\">\n",
              "    <div class=\"colab-df-container\">\n",
              "      <div>\n",
              "<style scoped>\n",
              "    .dataframe tbody tr th:only-of-type {\n",
              "        vertical-align: middle;\n",
              "    }\n",
              "\n",
              "    .dataframe tbody tr th {\n",
              "        vertical-align: top;\n",
              "    }\n",
              "\n",
              "    .dataframe thead th {\n",
              "        text-align: right;\n",
              "    }\n",
              "</style>\n",
              "<table border=\"1\" class=\"dataframe\">\n",
              "  <thead>\n",
              "    <tr style=\"text-align: right;\">\n",
              "      <th></th>\n",
              "      <th>App</th>\n",
              "      <th>Category</th>\n",
              "      <th>Rating</th>\n",
              "      <th>Reviews</th>\n",
              "      <th>Size</th>\n",
              "      <th>Installs</th>\n",
              "      <th>Type</th>\n",
              "      <th>Price</th>\n",
              "      <th>Content Rating</th>\n",
              "      <th>Genres</th>\n",
              "      <th>Last Updated</th>\n",
              "      <th>Current Ver</th>\n",
              "      <th>Android Ver</th>\n",
              "    </tr>\n",
              "  </thead>\n",
              "  <tbody>\n",
              "    <tr>\n",
              "      <th>0</th>\n",
              "      <td>Photo Editor &amp; Candy Camera &amp; Grid &amp; ScrapBook</td>\n",
              "      <td>ART_AND_DESIGN</td>\n",
              "      <td>4.1</td>\n",
              "      <td>159</td>\n",
              "      <td>19M</td>\n",
              "      <td>10,000+</td>\n",
              "      <td>Free</td>\n",
              "      <td>0</td>\n",
              "      <td>Everyone</td>\n",
              "      <td>Art &amp; Design</td>\n",
              "      <td>January 7, 2018</td>\n",
              "      <td>1.0.0</td>\n",
              "      <td>4.0.3 and up</td>\n",
              "    </tr>\n",
              "    <tr>\n",
              "      <th>1</th>\n",
              "      <td>Coloring book moana</td>\n",
              "      <td>ART_AND_DESIGN</td>\n",
              "      <td>3.9</td>\n",
              "      <td>967</td>\n",
              "      <td>14M</td>\n",
              "      <td>500,000+</td>\n",
              "      <td>Free</td>\n",
              "      <td>0</td>\n",
              "      <td>Everyone</td>\n",
              "      <td>Art &amp; Design;Pretend Play</td>\n",
              "      <td>January 15, 2018</td>\n",
              "      <td>2.0.0</td>\n",
              "      <td>4.0.3 and up</td>\n",
              "    </tr>\n",
              "    <tr>\n",
              "      <th>2</th>\n",
              "      <td>U Launcher Lite – FREE Live Cool Themes, Hide ...</td>\n",
              "      <td>ART_AND_DESIGN</td>\n",
              "      <td>4.7</td>\n",
              "      <td>87510</td>\n",
              "      <td>8.7M</td>\n",
              "      <td>5,000,000+</td>\n",
              "      <td>Free</td>\n",
              "      <td>0</td>\n",
              "      <td>Everyone</td>\n",
              "      <td>Art &amp; Design</td>\n",
              "      <td>August 1, 2018</td>\n",
              "      <td>1.2.4</td>\n",
              "      <td>4.0.3 and up</td>\n",
              "    </tr>\n",
              "    <tr>\n",
              "      <th>3</th>\n",
              "      <td>Sketch - Draw &amp; Paint</td>\n",
              "      <td>ART_AND_DESIGN</td>\n",
              "      <td>4.5</td>\n",
              "      <td>215644</td>\n",
              "      <td>25M</td>\n",
              "      <td>50,000,000+</td>\n",
              "      <td>Free</td>\n",
              "      <td>0</td>\n",
              "      <td>Teen</td>\n",
              "      <td>Art &amp; Design</td>\n",
              "      <td>June 8, 2018</td>\n",
              "      <td>Varies with device</td>\n",
              "      <td>4.2 and up</td>\n",
              "    </tr>\n",
              "    <tr>\n",
              "      <th>4</th>\n",
              "      <td>Pixel Draw - Number Art Coloring Book</td>\n",
              "      <td>ART_AND_DESIGN</td>\n",
              "      <td>4.3</td>\n",
              "      <td>967</td>\n",
              "      <td>2.8M</td>\n",
              "      <td>100,000+</td>\n",
              "      <td>Free</td>\n",
              "      <td>0</td>\n",
              "      <td>Everyone</td>\n",
              "      <td>Art &amp; Design;Creativity</td>\n",
              "      <td>June 20, 2018</td>\n",
              "      <td>1.1</td>\n",
              "      <td>4.4 and up</td>\n",
              "    </tr>\n",
              "  </tbody>\n",
              "</table>\n",
              "</div>\n",
              "      <button class=\"colab-df-convert\" onclick=\"convertToInteractive('df-1ffd3b2b-e0c5-49e9-853e-41799a7541f5')\"\n",
              "              title=\"Convert this dataframe to an interactive table.\"\n",
              "              style=\"display:none;\">\n",
              "        \n",
              "  <svg xmlns=\"http://www.w3.org/2000/svg\" height=\"24px\"viewBox=\"0 0 24 24\"\n",
              "       width=\"24px\">\n",
              "    <path d=\"M0 0h24v24H0V0z\" fill=\"none\"/>\n",
              "    <path d=\"M18.56 5.44l.94 2.06.94-2.06 2.06-.94-2.06-.94-.94-2.06-.94 2.06-2.06.94zm-11 1L8.5 8.5l.94-2.06 2.06-.94-2.06-.94L8.5 2.5l-.94 2.06-2.06.94zm10 10l.94 2.06.94-2.06 2.06-.94-2.06-.94-.94-2.06-.94 2.06-2.06.94z\"/><path d=\"M17.41 7.96l-1.37-1.37c-.4-.4-.92-.59-1.43-.59-.52 0-1.04.2-1.43.59L10.3 9.45l-7.72 7.72c-.78.78-.78 2.05 0 2.83L4 21.41c.39.39.9.59 1.41.59.51 0 1.02-.2 1.41-.59l7.78-7.78 2.81-2.81c.8-.78.8-2.07 0-2.86zM5.41 20L4 18.59l7.72-7.72 1.47 1.35L5.41 20z\"/>\n",
              "  </svg>\n",
              "      </button>\n",
              "      \n",
              "  <style>\n",
              "    .colab-df-container {\n",
              "      display:flex;\n",
              "      flex-wrap:wrap;\n",
              "      gap: 12px;\n",
              "    }\n",
              "\n",
              "    .colab-df-convert {\n",
              "      background-color: #E8F0FE;\n",
              "      border: none;\n",
              "      border-radius: 50%;\n",
              "      cursor: pointer;\n",
              "      display: none;\n",
              "      fill: #1967D2;\n",
              "      height: 32px;\n",
              "      padding: 0 0 0 0;\n",
              "      width: 32px;\n",
              "    }\n",
              "\n",
              "    .colab-df-convert:hover {\n",
              "      background-color: #E2EBFA;\n",
              "      box-shadow: 0px 1px 2px rgba(60, 64, 67, 0.3), 0px 1px 3px 1px rgba(60, 64, 67, 0.15);\n",
              "      fill: #174EA6;\n",
              "    }\n",
              "\n",
              "    [theme=dark] .colab-df-convert {\n",
              "      background-color: #3B4455;\n",
              "      fill: #D2E3FC;\n",
              "    }\n",
              "\n",
              "    [theme=dark] .colab-df-convert:hover {\n",
              "      background-color: #434B5C;\n",
              "      box-shadow: 0px 1px 3px 1px rgba(0, 0, 0, 0.15);\n",
              "      filter: drop-shadow(0px 1px 2px rgba(0, 0, 0, 0.3));\n",
              "      fill: #FFFFFF;\n",
              "    }\n",
              "  </style>\n",
              "\n",
              "      <script>\n",
              "        const buttonEl =\n",
              "          document.querySelector('#df-1ffd3b2b-e0c5-49e9-853e-41799a7541f5 button.colab-df-convert');\n",
              "        buttonEl.style.display =\n",
              "          google.colab.kernel.accessAllowed ? 'block' : 'none';\n",
              "\n",
              "        async function convertToInteractive(key) {\n",
              "          const element = document.querySelector('#df-1ffd3b2b-e0c5-49e9-853e-41799a7541f5');\n",
              "          const dataTable =\n",
              "            await google.colab.kernel.invokeFunction('convertToInteractive',\n",
              "                                                     [key], {});\n",
              "          if (!dataTable) return;\n",
              "\n",
              "          const docLinkHtml = 'Like what you see? Visit the ' +\n",
              "            '<a target=\"_blank\" href=https://colab.research.google.com/notebooks/data_table.ipynb>data table notebook</a>'\n",
              "            + ' to learn more about interactive tables.';\n",
              "          element.innerHTML = '';\n",
              "          dataTable['output_type'] = 'display_data';\n",
              "          await google.colab.output.renderOutput(dataTable, element);\n",
              "          const docLink = document.createElement('div');\n",
              "          docLink.innerHTML = docLinkHtml;\n",
              "          element.appendChild(docLink);\n",
              "        }\n",
              "      </script>\n",
              "    </div>\n",
              "  </div>\n",
              "  "
            ],
            "text/plain": [
              "                                                 App        Category  Rating  \\\n",
              "0     Photo Editor & Candy Camera & Grid & ScrapBook  ART_AND_DESIGN     4.1   \n",
              "1                                Coloring book moana  ART_AND_DESIGN     3.9   \n",
              "2  U Launcher Lite – FREE Live Cool Themes, Hide ...  ART_AND_DESIGN     4.7   \n",
              "3                              Sketch - Draw & Paint  ART_AND_DESIGN     4.5   \n",
              "4              Pixel Draw - Number Art Coloring Book  ART_AND_DESIGN     4.3   \n",
              "\n",
              "  Reviews  Size     Installs  Type Price Content Rating  \\\n",
              "0     159   19M      10,000+  Free     0       Everyone   \n",
              "1     967   14M     500,000+  Free     0       Everyone   \n",
              "2   87510  8.7M   5,000,000+  Free     0       Everyone   \n",
              "3  215644   25M  50,000,000+  Free     0           Teen   \n",
              "4     967  2.8M     100,000+  Free     0       Everyone   \n",
              "\n",
              "                      Genres      Last Updated         Current Ver  \\\n",
              "0               Art & Design   January 7, 2018               1.0.0   \n",
              "1  Art & Design;Pretend Play  January 15, 2018               2.0.0   \n",
              "2               Art & Design    August 1, 2018               1.2.4   \n",
              "3               Art & Design      June 8, 2018  Varies with device   \n",
              "4    Art & Design;Creativity     June 20, 2018                 1.1   \n",
              "\n",
              "    Android Ver  \n",
              "0  4.0.3 and up  \n",
              "1  4.0.3 and up  \n",
              "2  4.0.3 and up  \n",
              "3    4.2 and up  \n",
              "4    4.4 and up  "
            ]
          },
          "metadata": {},
          "execution_count": 560
        }
      ]
    },
    {
      "cell_type": "code",
      "source": [
        "#Remove columns which doesn't make sense in rating prediction\n",
        "df.drop(['App','Genres','Current Ver'],axis=1,inplace=True)\n",
        "#Check Missing  values\n",
        "df.isnull().sum()"
      ],
      "metadata": {
        "colab": {
          "base_uri": "https://localhost:8080/"
        },
        "id": "oHPGMVwokN8l",
        "outputId": "4a2ab4ce-9cc6-4c45-c6db-f9ebd1b659ea"
      },
      "execution_count": 561,
      "outputs": [
        {
          "output_type": "execute_result",
          "data": {
            "text/plain": [
              "Category             0\n",
              "Rating            1474\n",
              "Reviews              0\n",
              "Size                 0\n",
              "Installs             0\n",
              "Type                 1\n",
              "Price                0\n",
              "Content Rating       1\n",
              "Last Updated         0\n",
              "Android Ver          3\n",
              "dtype: int64"
            ]
          },
          "metadata": {},
          "execution_count": 561
        }
      ]
    },
    {
      "cell_type": "markdown",
      "source": [
        "#Handle Missing Values"
      ],
      "metadata": {
        "id": "o42pbhGa09E9"
      }
    },
    {
      "cell_type": "code",
      "source": [
        "#Remove NA values for Type.\n",
        "print(\"Before removing NA the shape of Dataframe is {0}\".format(df.shape))\n",
        "df.dropna(inplace=True)\n",
        "print(\"After removing NA the shape of Dataframe is {0}\".format(df.shape))"
      ],
      "metadata": {
        "colab": {
          "base_uri": "https://localhost:8080/"
        },
        "id": "zam1VJVRPpwb",
        "outputId": "457de167-57c3-495b-b290-7b9799f7d89c"
      },
      "execution_count": 562,
      "outputs": [
        {
          "output_type": "stream",
          "name": "stdout",
          "text": [
            "Before removing NA the shape of Dataframe is (10841, 10)\n",
            "After removing NA the shape of Dataframe is (9364, 10)\n"
          ]
        }
      ]
    },
    {
      "cell_type": "code",
      "source": [
        "df.isnull().sum()"
      ],
      "metadata": {
        "colab": {
          "base_uri": "https://localhost:8080/"
        },
        "id": "GQaOjIRt1GGS",
        "outputId": "31e4e516-fce0-4b8e-aeed-4f2c026b0bbf"
      },
      "execution_count": 563,
      "outputs": [
        {
          "output_type": "execute_result",
          "data": {
            "text/plain": [
              "Category          0\n",
              "Rating            0\n",
              "Reviews           0\n",
              "Size              0\n",
              "Installs          0\n",
              "Type              0\n",
              "Price             0\n",
              "Content Rating    0\n",
              "Last Updated      0\n",
              "Android Ver       0\n",
              "dtype: int64"
            ]
          },
          "metadata": {},
          "execution_count": 563
        }
      ]
    },
    {
      "cell_type": "code",
      "source": [
        "df.dtypes"
      ],
      "metadata": {
        "colab": {
          "base_uri": "https://localhost:8080/"
        },
        "id": "d50vXgE0RWG6",
        "outputId": "ff63b105-993d-49e1-dde3-a68121d36f32"
      },
      "execution_count": 564,
      "outputs": [
        {
          "output_type": "execute_result",
          "data": {
            "text/plain": [
              "Category           object\n",
              "Rating            float64\n",
              "Reviews            object\n",
              "Size               object\n",
              "Installs           object\n",
              "Type               object\n",
              "Price              object\n",
              "Content Rating     object\n",
              "Last Updated       object\n",
              "Android Ver        object\n",
              "dtype: object"
            ]
          },
          "metadata": {},
          "execution_count": 564
        }
      ]
    },
    {
      "cell_type": "code",
      "source": [
        ""
      ],
      "metadata": {
        "id": "bEmFBfrH1LWE"
      },
      "execution_count": null,
      "outputs": []
    },
    {
      "cell_type": "markdown",
      "source": [
        "#Data Cleaning and Preprocessing starts"
      ],
      "metadata": {
        "id": "N2GITder1Ml-"
      }
    },
    {
      "cell_type": "markdown",
      "source": [
        "#### Review should be numeric datatype,instead of  object type .One entry has an alphabetical character ,hence object.Need data cleaning here\n",
        "#### Size also has aphanumerical characters which needs processing\n",
        "#### Same scenario with installs ,it has alphanumeric characters\n",
        "#### Price also needs to be numeric type\n",
        "#### Instead of using date object ,We will derive a new column suggesting the no. of days between current date and last updated version date"
      ],
      "metadata": {
        "id": "skis93zsRfx0"
      }
    },
    {
      "cell_type": "code",
      "source": [
        "df['Reviews']=df['Reviews'].astype('int')"
      ],
      "metadata": {
        "id": "3MidTOhsYhGT"
      },
      "execution_count": 565,
      "outputs": []
    },
    {
      "cell_type": "code",
      "source": [
        "#Handle Size variable\n",
        "#Remove + sign from size\n",
        "#Convert M into KB\n",
        "def getSize(val):\n",
        "    val=str(val)\n",
        "    val=val.lower()\n",
        "    if('+' in val):\n",
        "      val=val.strip('+')\n",
        "    if(val.endswith('m')):\n",
        "      val=val.strip('m')\n",
        "      val=(1000)*float(val)\n",
        "      return val\n",
        "    elif(val.endswith('k')):\n",
        "      return float(val.strip('k'))\n",
        "    else:\n",
        "      return 0\n",
        "    \n",
        "df['Size']=df['Size'].apply(lambda x:getSize(x) )\n"
      ],
      "metadata": {
        "id": "1vix4GYEYpxk"
      },
      "execution_count": 566,
      "outputs": []
    },
    {
      "cell_type": "code",
      "source": [
        "#Handle Installs variable\n",
        "df['Installs']=df['Installs'].apply(lambda x : int(x.replace(\",\",\"\").strip('+')))\n",
        "#df.drop(['Installs_new'],axis=1,inplace=True)"
      ],
      "metadata": {
        "id": "vEbalQwfaQAa"
      },
      "execution_count": 567,
      "outputs": []
    },
    {
      "cell_type": "code",
      "source": [
        "df.head()\n"
      ],
      "metadata": {
        "colab": {
          "base_uri": "https://localhost:8080/",
          "height": 206
        },
        "id": "ypDTV_3xaePe",
        "outputId": "bac23b9f-ea82-4d57-c025-38600cdd399d"
      },
      "execution_count": 568,
      "outputs": [
        {
          "output_type": "execute_result",
          "data": {
            "text/html": [
              "\n",
              "  <div id=\"df-cef764fa-5e5c-41a2-89f3-5e3db0a061d2\">\n",
              "    <div class=\"colab-df-container\">\n",
              "      <div>\n",
              "<style scoped>\n",
              "    .dataframe tbody tr th:only-of-type {\n",
              "        vertical-align: middle;\n",
              "    }\n",
              "\n",
              "    .dataframe tbody tr th {\n",
              "        vertical-align: top;\n",
              "    }\n",
              "\n",
              "    .dataframe thead th {\n",
              "        text-align: right;\n",
              "    }\n",
              "</style>\n",
              "<table border=\"1\" class=\"dataframe\">\n",
              "  <thead>\n",
              "    <tr style=\"text-align: right;\">\n",
              "      <th></th>\n",
              "      <th>Category</th>\n",
              "      <th>Rating</th>\n",
              "      <th>Reviews</th>\n",
              "      <th>Size</th>\n",
              "      <th>Installs</th>\n",
              "      <th>Type</th>\n",
              "      <th>Price</th>\n",
              "      <th>Content Rating</th>\n",
              "      <th>Last Updated</th>\n",
              "      <th>Android Ver</th>\n",
              "    </tr>\n",
              "  </thead>\n",
              "  <tbody>\n",
              "    <tr>\n",
              "      <th>0</th>\n",
              "      <td>ART_AND_DESIGN</td>\n",
              "      <td>4.1</td>\n",
              "      <td>159</td>\n",
              "      <td>19000.0</td>\n",
              "      <td>10000</td>\n",
              "      <td>Free</td>\n",
              "      <td>0</td>\n",
              "      <td>Everyone</td>\n",
              "      <td>January 7, 2018</td>\n",
              "      <td>4.0.3 and up</td>\n",
              "    </tr>\n",
              "    <tr>\n",
              "      <th>1</th>\n",
              "      <td>ART_AND_DESIGN</td>\n",
              "      <td>3.9</td>\n",
              "      <td>967</td>\n",
              "      <td>14000.0</td>\n",
              "      <td>500000</td>\n",
              "      <td>Free</td>\n",
              "      <td>0</td>\n",
              "      <td>Everyone</td>\n",
              "      <td>January 15, 2018</td>\n",
              "      <td>4.0.3 and up</td>\n",
              "    </tr>\n",
              "    <tr>\n",
              "      <th>2</th>\n",
              "      <td>ART_AND_DESIGN</td>\n",
              "      <td>4.7</td>\n",
              "      <td>87510</td>\n",
              "      <td>8700.0</td>\n",
              "      <td>5000000</td>\n",
              "      <td>Free</td>\n",
              "      <td>0</td>\n",
              "      <td>Everyone</td>\n",
              "      <td>August 1, 2018</td>\n",
              "      <td>4.0.3 and up</td>\n",
              "    </tr>\n",
              "    <tr>\n",
              "      <th>3</th>\n",
              "      <td>ART_AND_DESIGN</td>\n",
              "      <td>4.5</td>\n",
              "      <td>215644</td>\n",
              "      <td>25000.0</td>\n",
              "      <td>50000000</td>\n",
              "      <td>Free</td>\n",
              "      <td>0</td>\n",
              "      <td>Teen</td>\n",
              "      <td>June 8, 2018</td>\n",
              "      <td>4.2 and up</td>\n",
              "    </tr>\n",
              "    <tr>\n",
              "      <th>4</th>\n",
              "      <td>ART_AND_DESIGN</td>\n",
              "      <td>4.3</td>\n",
              "      <td>967</td>\n",
              "      <td>2800.0</td>\n",
              "      <td>100000</td>\n",
              "      <td>Free</td>\n",
              "      <td>0</td>\n",
              "      <td>Everyone</td>\n",
              "      <td>June 20, 2018</td>\n",
              "      <td>4.4 and up</td>\n",
              "    </tr>\n",
              "  </tbody>\n",
              "</table>\n",
              "</div>\n",
              "      <button class=\"colab-df-convert\" onclick=\"convertToInteractive('df-cef764fa-5e5c-41a2-89f3-5e3db0a061d2')\"\n",
              "              title=\"Convert this dataframe to an interactive table.\"\n",
              "              style=\"display:none;\">\n",
              "        \n",
              "  <svg xmlns=\"http://www.w3.org/2000/svg\" height=\"24px\"viewBox=\"0 0 24 24\"\n",
              "       width=\"24px\">\n",
              "    <path d=\"M0 0h24v24H0V0z\" fill=\"none\"/>\n",
              "    <path d=\"M18.56 5.44l.94 2.06.94-2.06 2.06-.94-2.06-.94-.94-2.06-.94 2.06-2.06.94zm-11 1L8.5 8.5l.94-2.06 2.06-.94-2.06-.94L8.5 2.5l-.94 2.06-2.06.94zm10 10l.94 2.06.94-2.06 2.06-.94-2.06-.94-.94-2.06-.94 2.06-2.06.94z\"/><path d=\"M17.41 7.96l-1.37-1.37c-.4-.4-.92-.59-1.43-.59-.52 0-1.04.2-1.43.59L10.3 9.45l-7.72 7.72c-.78.78-.78 2.05 0 2.83L4 21.41c.39.39.9.59 1.41.59.51 0 1.02-.2 1.41-.59l7.78-7.78 2.81-2.81c.8-.78.8-2.07 0-2.86zM5.41 20L4 18.59l7.72-7.72 1.47 1.35L5.41 20z\"/>\n",
              "  </svg>\n",
              "      </button>\n",
              "      \n",
              "  <style>\n",
              "    .colab-df-container {\n",
              "      display:flex;\n",
              "      flex-wrap:wrap;\n",
              "      gap: 12px;\n",
              "    }\n",
              "\n",
              "    .colab-df-convert {\n",
              "      background-color: #E8F0FE;\n",
              "      border: none;\n",
              "      border-radius: 50%;\n",
              "      cursor: pointer;\n",
              "      display: none;\n",
              "      fill: #1967D2;\n",
              "      height: 32px;\n",
              "      padding: 0 0 0 0;\n",
              "      width: 32px;\n",
              "    }\n",
              "\n",
              "    .colab-df-convert:hover {\n",
              "      background-color: #E2EBFA;\n",
              "      box-shadow: 0px 1px 2px rgba(60, 64, 67, 0.3), 0px 1px 3px 1px rgba(60, 64, 67, 0.15);\n",
              "      fill: #174EA6;\n",
              "    }\n",
              "\n",
              "    [theme=dark] .colab-df-convert {\n",
              "      background-color: #3B4455;\n",
              "      fill: #D2E3FC;\n",
              "    }\n",
              "\n",
              "    [theme=dark] .colab-df-convert:hover {\n",
              "      background-color: #434B5C;\n",
              "      box-shadow: 0px 1px 3px 1px rgba(0, 0, 0, 0.15);\n",
              "      filter: drop-shadow(0px 1px 2px rgba(0, 0, 0, 0.3));\n",
              "      fill: #FFFFFF;\n",
              "    }\n",
              "  </style>\n",
              "\n",
              "      <script>\n",
              "        const buttonEl =\n",
              "          document.querySelector('#df-cef764fa-5e5c-41a2-89f3-5e3db0a061d2 button.colab-df-convert');\n",
              "        buttonEl.style.display =\n",
              "          google.colab.kernel.accessAllowed ? 'block' : 'none';\n",
              "\n",
              "        async function convertToInteractive(key) {\n",
              "          const element = document.querySelector('#df-cef764fa-5e5c-41a2-89f3-5e3db0a061d2');\n",
              "          const dataTable =\n",
              "            await google.colab.kernel.invokeFunction('convertToInteractive',\n",
              "                                                     [key], {});\n",
              "          if (!dataTable) return;\n",
              "\n",
              "          const docLinkHtml = 'Like what you see? Visit the ' +\n",
              "            '<a target=\"_blank\" href=https://colab.research.google.com/notebooks/data_table.ipynb>data table notebook</a>'\n",
              "            + ' to learn more about interactive tables.';\n",
              "          element.innerHTML = '';\n",
              "          dataTable['output_type'] = 'display_data';\n",
              "          await google.colab.output.renderOutput(dataTable, element);\n",
              "          const docLink = document.createElement('div');\n",
              "          docLink.innerHTML = docLinkHtml;\n",
              "          element.appendChild(docLink);\n",
              "        }\n",
              "      </script>\n",
              "    </div>\n",
              "  </div>\n",
              "  "
            ],
            "text/plain": [
              "         Category  Rating  Reviews     Size  Installs  Type Price  \\\n",
              "0  ART_AND_DESIGN     4.1      159  19000.0     10000  Free     0   \n",
              "1  ART_AND_DESIGN     3.9      967  14000.0    500000  Free     0   \n",
              "2  ART_AND_DESIGN     4.7    87510   8700.0   5000000  Free     0   \n",
              "3  ART_AND_DESIGN     4.5   215644  25000.0  50000000  Free     0   \n",
              "4  ART_AND_DESIGN     4.3      967   2800.0    100000  Free     0   \n",
              "\n",
              "  Content Rating      Last Updated   Android Ver  \n",
              "0       Everyone   January 7, 2018  4.0.3 and up  \n",
              "1       Everyone  January 15, 2018  4.0.3 and up  \n",
              "2       Everyone    August 1, 2018  4.0.3 and up  \n",
              "3           Teen      June 8, 2018    4.2 and up  \n",
              "4       Everyone     June 20, 2018    4.4 and up  "
            ]
          },
          "metadata": {},
          "execution_count": 568
        }
      ]
    },
    {
      "cell_type": "code",
      "source": [
        "#Handle Price variable\n",
        "df['Price']=df['Price'].apply(lambda x : float(x.strip('$')))\n"
      ],
      "metadata": {
        "id": "rzC9AT03c1Su"
      },
      "execution_count": 569,
      "outputs": []
    },
    {
      "cell_type": "code",
      "source": [
        "df['Last Updated'] = df['Last Updated'].apply(lambda x : pd.to_datetime(x))\n",
        "#Caluclate new colums\n",
        "date2=pd.to_datetime('now')\n",
        "print(date2)\n",
        "df['Date_Diff']=df['Last Updated'].apply(lambda x: (date2-x).days)\n",
        "df.drop(['Last Updated'],axis=1,inplace=True)\n",
        "#df.rename(columns={'Last Updatednew':'Last Updated'},inplace=True)"
      ],
      "metadata": {
        "colab": {
          "base_uri": "https://localhost:8080/"
        },
        "id": "YKZQ00WssWzY",
        "outputId": "8d38cb5f-410c-4d16-ecb2-0e75697f0ac1"
      },
      "execution_count": 570,
      "outputs": [
        {
          "output_type": "stream",
          "name": "stdout",
          "text": [
            "2021-12-25 03:16:56.167573\n"
          ]
        }
      ]
    },
    {
      "cell_type": "code",
      "source": [
        "df.head()"
      ],
      "metadata": {
        "colab": {
          "base_uri": "https://localhost:8080/",
          "height": 206
        },
        "id": "H8B9FZQe1fHI",
        "outputId": "3beee55f-dff2-4ff9-c569-4223d43aa67b"
      },
      "execution_count": 571,
      "outputs": [
        {
          "output_type": "execute_result",
          "data": {
            "text/html": [
              "\n",
              "  <div id=\"df-0f98dd12-7a26-4464-a44b-1c2a3fc6966a\">\n",
              "    <div class=\"colab-df-container\">\n",
              "      <div>\n",
              "<style scoped>\n",
              "    .dataframe tbody tr th:only-of-type {\n",
              "        vertical-align: middle;\n",
              "    }\n",
              "\n",
              "    .dataframe tbody tr th {\n",
              "        vertical-align: top;\n",
              "    }\n",
              "\n",
              "    .dataframe thead th {\n",
              "        text-align: right;\n",
              "    }\n",
              "</style>\n",
              "<table border=\"1\" class=\"dataframe\">\n",
              "  <thead>\n",
              "    <tr style=\"text-align: right;\">\n",
              "      <th></th>\n",
              "      <th>Category</th>\n",
              "      <th>Rating</th>\n",
              "      <th>Reviews</th>\n",
              "      <th>Size</th>\n",
              "      <th>Installs</th>\n",
              "      <th>Type</th>\n",
              "      <th>Price</th>\n",
              "      <th>Content Rating</th>\n",
              "      <th>Android Ver</th>\n",
              "      <th>Date_Diff</th>\n",
              "    </tr>\n",
              "  </thead>\n",
              "  <tbody>\n",
              "    <tr>\n",
              "      <th>0</th>\n",
              "      <td>ART_AND_DESIGN</td>\n",
              "      <td>4.1</td>\n",
              "      <td>159</td>\n",
              "      <td>19000.0</td>\n",
              "      <td>10000</td>\n",
              "      <td>Free</td>\n",
              "      <td>0.0</td>\n",
              "      <td>Everyone</td>\n",
              "      <td>4.0.3 and up</td>\n",
              "      <td>1448</td>\n",
              "    </tr>\n",
              "    <tr>\n",
              "      <th>1</th>\n",
              "      <td>ART_AND_DESIGN</td>\n",
              "      <td>3.9</td>\n",
              "      <td>967</td>\n",
              "      <td>14000.0</td>\n",
              "      <td>500000</td>\n",
              "      <td>Free</td>\n",
              "      <td>0.0</td>\n",
              "      <td>Everyone</td>\n",
              "      <td>4.0.3 and up</td>\n",
              "      <td>1440</td>\n",
              "    </tr>\n",
              "    <tr>\n",
              "      <th>2</th>\n",
              "      <td>ART_AND_DESIGN</td>\n",
              "      <td>4.7</td>\n",
              "      <td>87510</td>\n",
              "      <td>8700.0</td>\n",
              "      <td>5000000</td>\n",
              "      <td>Free</td>\n",
              "      <td>0.0</td>\n",
              "      <td>Everyone</td>\n",
              "      <td>4.0.3 and up</td>\n",
              "      <td>1242</td>\n",
              "    </tr>\n",
              "    <tr>\n",
              "      <th>3</th>\n",
              "      <td>ART_AND_DESIGN</td>\n",
              "      <td>4.5</td>\n",
              "      <td>215644</td>\n",
              "      <td>25000.0</td>\n",
              "      <td>50000000</td>\n",
              "      <td>Free</td>\n",
              "      <td>0.0</td>\n",
              "      <td>Teen</td>\n",
              "      <td>4.2 and up</td>\n",
              "      <td>1296</td>\n",
              "    </tr>\n",
              "    <tr>\n",
              "      <th>4</th>\n",
              "      <td>ART_AND_DESIGN</td>\n",
              "      <td>4.3</td>\n",
              "      <td>967</td>\n",
              "      <td>2800.0</td>\n",
              "      <td>100000</td>\n",
              "      <td>Free</td>\n",
              "      <td>0.0</td>\n",
              "      <td>Everyone</td>\n",
              "      <td>4.4 and up</td>\n",
              "      <td>1284</td>\n",
              "    </tr>\n",
              "  </tbody>\n",
              "</table>\n",
              "</div>\n",
              "      <button class=\"colab-df-convert\" onclick=\"convertToInteractive('df-0f98dd12-7a26-4464-a44b-1c2a3fc6966a')\"\n",
              "              title=\"Convert this dataframe to an interactive table.\"\n",
              "              style=\"display:none;\">\n",
              "        \n",
              "  <svg xmlns=\"http://www.w3.org/2000/svg\" height=\"24px\"viewBox=\"0 0 24 24\"\n",
              "       width=\"24px\">\n",
              "    <path d=\"M0 0h24v24H0V0z\" fill=\"none\"/>\n",
              "    <path d=\"M18.56 5.44l.94 2.06.94-2.06 2.06-.94-2.06-.94-.94-2.06-.94 2.06-2.06.94zm-11 1L8.5 8.5l.94-2.06 2.06-.94-2.06-.94L8.5 2.5l-.94 2.06-2.06.94zm10 10l.94 2.06.94-2.06 2.06-.94-2.06-.94-.94-2.06-.94 2.06-2.06.94z\"/><path d=\"M17.41 7.96l-1.37-1.37c-.4-.4-.92-.59-1.43-.59-.52 0-1.04.2-1.43.59L10.3 9.45l-7.72 7.72c-.78.78-.78 2.05 0 2.83L4 21.41c.39.39.9.59 1.41.59.51 0 1.02-.2 1.41-.59l7.78-7.78 2.81-2.81c.8-.78.8-2.07 0-2.86zM5.41 20L4 18.59l7.72-7.72 1.47 1.35L5.41 20z\"/>\n",
              "  </svg>\n",
              "      </button>\n",
              "      \n",
              "  <style>\n",
              "    .colab-df-container {\n",
              "      display:flex;\n",
              "      flex-wrap:wrap;\n",
              "      gap: 12px;\n",
              "    }\n",
              "\n",
              "    .colab-df-convert {\n",
              "      background-color: #E8F0FE;\n",
              "      border: none;\n",
              "      border-radius: 50%;\n",
              "      cursor: pointer;\n",
              "      display: none;\n",
              "      fill: #1967D2;\n",
              "      height: 32px;\n",
              "      padding: 0 0 0 0;\n",
              "      width: 32px;\n",
              "    }\n",
              "\n",
              "    .colab-df-convert:hover {\n",
              "      background-color: #E2EBFA;\n",
              "      box-shadow: 0px 1px 2px rgba(60, 64, 67, 0.3), 0px 1px 3px 1px rgba(60, 64, 67, 0.15);\n",
              "      fill: #174EA6;\n",
              "    }\n",
              "\n",
              "    [theme=dark] .colab-df-convert {\n",
              "      background-color: #3B4455;\n",
              "      fill: #D2E3FC;\n",
              "    }\n",
              "\n",
              "    [theme=dark] .colab-df-convert:hover {\n",
              "      background-color: #434B5C;\n",
              "      box-shadow: 0px 1px 3px 1px rgba(0, 0, 0, 0.15);\n",
              "      filter: drop-shadow(0px 1px 2px rgba(0, 0, 0, 0.3));\n",
              "      fill: #FFFFFF;\n",
              "    }\n",
              "  </style>\n",
              "\n",
              "      <script>\n",
              "        const buttonEl =\n",
              "          document.querySelector('#df-0f98dd12-7a26-4464-a44b-1c2a3fc6966a button.colab-df-convert');\n",
              "        buttonEl.style.display =\n",
              "          google.colab.kernel.accessAllowed ? 'block' : 'none';\n",
              "\n",
              "        async function convertToInteractive(key) {\n",
              "          const element = document.querySelector('#df-0f98dd12-7a26-4464-a44b-1c2a3fc6966a');\n",
              "          const dataTable =\n",
              "            await google.colab.kernel.invokeFunction('convertToInteractive',\n",
              "                                                     [key], {});\n",
              "          if (!dataTable) return;\n",
              "\n",
              "          const docLinkHtml = 'Like what you see? Visit the ' +\n",
              "            '<a target=\"_blank\" href=https://colab.research.google.com/notebooks/data_table.ipynb>data table notebook</a>'\n",
              "            + ' to learn more about interactive tables.';\n",
              "          element.innerHTML = '';\n",
              "          dataTable['output_type'] = 'display_data';\n",
              "          await google.colab.output.renderOutput(dataTable, element);\n",
              "          const docLink = document.createElement('div');\n",
              "          docLink.innerHTML = docLinkHtml;\n",
              "          element.appendChild(docLink);\n",
              "        }\n",
              "      </script>\n",
              "    </div>\n",
              "  </div>\n",
              "  "
            ],
            "text/plain": [
              "         Category  Rating  Reviews     Size  Installs  Type  Price  \\\n",
              "0  ART_AND_DESIGN     4.1      159  19000.0     10000  Free    0.0   \n",
              "1  ART_AND_DESIGN     3.9      967  14000.0    500000  Free    0.0   \n",
              "2  ART_AND_DESIGN     4.7    87510   8700.0   5000000  Free    0.0   \n",
              "3  ART_AND_DESIGN     4.5   215644  25000.0  50000000  Free    0.0   \n",
              "4  ART_AND_DESIGN     4.3      967   2800.0    100000  Free    0.0   \n",
              "\n",
              "  Content Rating   Android Ver  Date_Diff  \n",
              "0       Everyone  4.0.3 and up       1448  \n",
              "1       Everyone  4.0.3 and up       1440  \n",
              "2       Everyone  4.0.3 and up       1242  \n",
              "3           Teen    4.2 and up       1296  \n",
              "4       Everyone    4.4 and up       1284  "
            ]
          },
          "metadata": {},
          "execution_count": 571
        }
      ]
    },
    {
      "cell_type": "markdown",
      "source": [
        "# Time For Data Analysis\n"
      ],
      "metadata": {
        "id": "Ua-dQ0LQ54m8"
      }
    },
    {
      "cell_type": "code",
      "source": [
        "df.dtypes"
      ],
      "metadata": {
        "colab": {
          "base_uri": "https://localhost:8080/"
        },
        "id": "Z1z7DZLJ577X",
        "outputId": "6d422b88-74e7-417c-8a61-957e251c259e"
      },
      "execution_count": null,
      "outputs": [
        {
          "output_type": "execute_result",
          "data": {
            "text/plain": [
              "Category           object\n",
              "Rating            float64\n",
              "Reviews             int64\n",
              "Size              float64\n",
              "Installs            int64\n",
              "Type               object\n",
              "Price             float64\n",
              "Content Rating     object\n",
              "Android Ver        object\n",
              "Date_Diff           int64\n",
              "dtype: object"
            ]
          },
          "metadata": {},
          "execution_count": 457
        }
      ]
    },
    {
      "cell_type": "code",
      "source": [
        "numerical_cols=[]\n",
        "cat_cols=[]\n",
        "target_col=[]\n",
        "for feature ,typeVal in zip(df.dtypes.index,df.dtypes):\n",
        "  if typeVal=='object':\n",
        "    cat_cols.append(feature)\n",
        "  elif feature=='Rating':\n",
        "    target_col.append(feature)\n",
        "  else:\n",
        "    numerical_cols.append(feature)\n",
        "\n",
        "print(\"Categorical columns are :{}\".format(cat_cols))\n",
        "print(\"Numerical columns are :{}\".format(numerical_cols))\n",
        "print(\"Target columns are :{}\".format(target_col))"
      ],
      "metadata": {
        "colab": {
          "base_uri": "https://localhost:8080/"
        },
        "id": "rN3mpyJI6KN8",
        "outputId": "208afe58-22c1-4b7c-ca3e-1e3728ebbf8d"
      },
      "execution_count": 572,
      "outputs": [
        {
          "output_type": "stream",
          "name": "stdout",
          "text": [
            "Categorical columns are :['Category', 'Type', 'Content Rating', 'Android Ver']\n",
            "Numerical columns are :['Reviews', 'Size', 'Installs', 'Price', 'Date_Diff']\n",
            "Target columns are :['Rating']\n"
          ]
        }
      ]
    },
    {
      "cell_type": "markdown",
      "source": [
        "#Check correlation between Numerical columns:\n",
        "Rating and No of installation are positively correlated"
      ],
      "metadata": {
        "id": "CUiehL9G_CrR"
      }
    },
    {
      "cell_type": "code",
      "source": [
        "\n",
        "plt.figure(figsize=(12,6))\n",
        "test_cols=numerical_cols.copy()\n",
        "test_cols.extend(target_col)\n",
        "sns.heatmap(df[test_cols].corr(),annot=True)"
      ],
      "metadata": {
        "colab": {
          "base_uri": "https://localhost:8080/",
          "height": 400
        },
        "id": "eoTSC7IU-r1H",
        "outputId": "338998f7-a9eb-475b-e588-67c3611ecd98"
      },
      "execution_count": null,
      "outputs": [
        {
          "output_type": "execute_result",
          "data": {
            "text/plain": [
              "<matplotlib.axes._subplots.AxesSubplot at 0x7f5acfb94090>"
            ]
          },
          "metadata": {},
          "execution_count": 459
        },
        {
          "output_type": "display_data",
          "data": {
            "image/png": "[encoded data removed]",
            "text/plain": [
              "<Figure size 864x432 with 2 Axes>"
            ]
          },
          "metadata": {
            "needs_background": "light"
          }
        }
      ]
    },
    {
      "cell_type": "markdown",
      "source": [
        "#Check distrbution of Numerical columns"
      ],
      "metadata": {
        "id": "KqWc7OAzX2JP"
      }
    },
    {
      "cell_type": "code",
      "source": [
        "# let's see how data is distributed for every column\n",
        "plt.figure(figsize=(20,25), facecolor='white')\n",
        "plotnumber = 1\n",
        "\n",
        "for column in test_cols:\n",
        "    if plotnumber<=6 :\n",
        "        ax = plt.subplot(3,3,plotnumber)\n",
        "        df[column].plot(kind='hist')\n",
        "        #sns.distplot(df[column],hist=False)\n",
        "        plt.xlabel(column,fontsize=20)\n",
        "        #plt.ylabel('Salary',fontsize=20)\n",
        "    plotnumber+=1\n",
        "plt.tight_layout()"
      ],
      "metadata": {
        "colab": {
          "base_uri": "https://localhost:8080/",
          "height": 954
        },
        "id": "avMqDs14_Jw_",
        "outputId": "eedcb773-64a9-4f83-8b1c-3aedf23ac399"
      },
      "execution_count": null,
      "outputs": [
        {
          "output_type": "display_data",
          "data": {
            "image/png": "[encoded data removed]",
            "text/plain": [
              "<Figure size 1440x1800 with 6 Axes>"
            ]
          },
          "metadata": {}
        }
      ]
    },
    {
      "cell_type": "code",
      "source": [
        "df.head()"
      ],
      "metadata": {
        "colab": {
          "base_uri": "https://localhost:8080/",
          "height": 206
        },
        "id": "Ixb5qMcaFmZb",
        "outputId": "69bedda3-e10b-4f43-cb77-a71dd15f2677"
      },
      "execution_count": null,
      "outputs": [
        {
          "output_type": "execute_result",
          "data": {
            "text/html": [
              "\n",
              "  <div id=\"df-57f7a2ef-22dc-422e-813b-879485395682\">\n",
              "    <div class=\"colab-df-container\">\n",
              "      <div>\n",
              "<style scoped>\n",
              "    .dataframe tbody tr th:only-of-type {\n",
              "        vertical-align: middle;\n",
              "    }\n",
              "\n",
              "    .dataframe tbody tr th {\n",
              "        vertical-align: top;\n",
              "    }\n",
              "\n",
              "    .dataframe thead th {\n",
              "        text-align: right;\n",
              "    }\n",
              "</style>\n",
              "<table border=\"1\" class=\"dataframe\">\n",
              "  <thead>\n",
              "    <tr style=\"text-align: right;\">\n",
              "      <th></th>\n",
              "      <th>Category</th>\n",
              "      <th>Rating</th>\n",
              "      <th>Reviews</th>\n",
              "      <th>Size</th>\n",
              "      <th>Installs</th>\n",
              "      <th>Type</th>\n",
              "      <th>Price</th>\n",
              "      <th>Content Rating</th>\n",
              "      <th>Android Ver</th>\n",
              "      <th>Date_Diff</th>\n",
              "    </tr>\n",
              "  </thead>\n",
              "  <tbody>\n",
              "    <tr>\n",
              "      <th>0</th>\n",
              "      <td>ART_AND_DESIGN</td>\n",
              "      <td>4.1</td>\n",
              "      <td>159</td>\n",
              "      <td>19000.0</td>\n",
              "      <td>10000</td>\n",
              "      <td>Free</td>\n",
              "      <td>0.0</td>\n",
              "      <td>Everyone</td>\n",
              "      <td>4.0.3 and up</td>\n",
              "      <td>1448</td>\n",
              "    </tr>\n",
              "    <tr>\n",
              "      <th>1</th>\n",
              "      <td>ART_AND_DESIGN</td>\n",
              "      <td>3.9</td>\n",
              "      <td>967</td>\n",
              "      <td>14000.0</td>\n",
              "      <td>500000</td>\n",
              "      <td>Free</td>\n",
              "      <td>0.0</td>\n",
              "      <td>Everyone</td>\n",
              "      <td>4.0.3 and up</td>\n",
              "      <td>1440</td>\n",
              "    </tr>\n",
              "    <tr>\n",
              "      <th>2</th>\n",
              "      <td>ART_AND_DESIGN</td>\n",
              "      <td>4.7</td>\n",
              "      <td>87510</td>\n",
              "      <td>8700.0</td>\n",
              "      <td>5000000</td>\n",
              "      <td>Free</td>\n",
              "      <td>0.0</td>\n",
              "      <td>Everyone</td>\n",
              "      <td>4.0.3 and up</td>\n",
              "      <td>1242</td>\n",
              "    </tr>\n",
              "    <tr>\n",
              "      <th>3</th>\n",
              "      <td>ART_AND_DESIGN</td>\n",
              "      <td>4.5</td>\n",
              "      <td>215644</td>\n",
              "      <td>25000.0</td>\n",
              "      <td>50000000</td>\n",
              "      <td>Free</td>\n",
              "      <td>0.0</td>\n",
              "      <td>Teen</td>\n",
              "      <td>4.2 and up</td>\n",
              "      <td>1296</td>\n",
              "    </tr>\n",
              "    <tr>\n",
              "      <th>4</th>\n",
              "      <td>ART_AND_DESIGN</td>\n",
              "      <td>4.3</td>\n",
              "      <td>967</td>\n",
              "      <td>2800.0</td>\n",
              "      <td>100000</td>\n",
              "      <td>Free</td>\n",
              "      <td>0.0</td>\n",
              "      <td>Everyone</td>\n",
              "      <td>4.4 and up</td>\n",
              "      <td>1284</td>\n",
              "    </tr>\n",
              "  </tbody>\n",
              "</table>\n",
              "</div>\n",
              "      <button class=\"colab-df-convert\" onclick=\"convertToInteractive('df-57f7a2ef-22dc-422e-813b-879485395682')\"\n",
              "              title=\"Convert this dataframe to an interactive table.\"\n",
              "              style=\"display:none;\">\n",
              "        \n",
              "  <svg xmlns=\"http://www.w3.org/2000/svg\" height=\"24px\"viewBox=\"0 0 24 24\"\n",
              "       width=\"24px\">\n",
              "    <path d=\"M0 0h24v24H0V0z\" fill=\"none\"/>\n",
              "    <path d=\"M18.56 5.44l.94 2.06.94-2.06 2.06-.94-2.06-.94-.94-2.06-.94 2.06-2.06.94zm-11 1L8.5 8.5l.94-2.06 2.06-.94-2.06-.94L8.5 2.5l-.94 2.06-2.06.94zm10 10l.94 2.06.94-2.06 2.06-.94-2.06-.94-.94-2.06-.94 2.06-2.06.94z\"/><path d=\"M17.41 7.96l-1.37-1.37c-.4-.4-.92-.59-1.43-.59-.52 0-1.04.2-1.43.59L10.3 9.45l-7.72 7.72c-.78.78-.78 2.05 0 2.83L4 21.41c.39.39.9.59 1.41.59.51 0 1.02-.2 1.41-.59l7.78-7.78 2.81-2.81c.8-.78.8-2.07 0-2.86zM5.41 20L4 18.59l7.72-7.72 1.47 1.35L5.41 20z\"/>\n",
              "  </svg>\n",
              "      </button>\n",
              "      \n",
              "  <style>\n",
              "    .colab-df-container {\n",
              "      display:flex;\n",
              "      flex-wrap:wrap;\n",
              "      gap: 12px;\n",
              "    }\n",
              "\n",
              "    .colab-df-convert {\n",
              "      background-color: #E8F0FE;\n",
              "      border: none;\n",
              "      border-radius: 50%;\n",
              "      cursor: pointer;\n",
              "      display: none;\n",
              "      fill: #1967D2;\n",
              "      height: 32px;\n",
              "      padding: 0 0 0 0;\n",
              "      width: 32px;\n",
              "    }\n",
              "\n",
              "    .colab-df-convert:hover {\n",
              "      background-color: #E2EBFA;\n",
              "      box-shadow: 0px 1px 2px rgba(60, 64, 67, 0.3), 0px 1px 3px 1px rgba(60, 64, 67, 0.15);\n",
              "      fill: #174EA6;\n",
              "    }\n",
              "\n",
              "    [theme=dark] .colab-df-convert {\n",
              "      background-color: #3B4455;\n",
              "      fill: #D2E3FC;\n",
              "    }\n",
              "\n",
              "    [theme=dark] .colab-df-convert:hover {\n",
              "      background-color: #434B5C;\n",
              "      box-shadow: 0px 1px 3px 1px rgba(0, 0, 0, 0.15);\n",
              "      filter: drop-shadow(0px 1px 2px rgba(0, 0, 0, 0.3));\n",
              "      fill: #FFFFFF;\n",
              "    }\n",
              "  </style>\n",
              "\n",
              "      <script>\n",
              "        const buttonEl =\n",
              "          document.querySelector('#df-57f7a2ef-22dc-422e-813b-879485395682 button.colab-df-convert');\n",
              "        buttonEl.style.display =\n",
              "          google.colab.kernel.accessAllowed ? 'block' : 'none';\n",
              "\n",
              "        async function convertToInteractive(key) {\n",
              "          const element = document.querySelector('#df-57f7a2ef-22dc-422e-813b-879485395682');\n",
              "          const dataTable =\n",
              "            await google.colab.kernel.invokeFunction('convertToInteractive',\n",
              "                                                     [key], {});\n",
              "          if (!dataTable) return;\n",
              "\n",
              "          const docLinkHtml = 'Like what you see? Visit the ' +\n",
              "            '<a target=\"_blank\" href=https://colab.research.google.com/notebooks/data_table.ipynb>data table notebook</a>'\n",
              "            + ' to learn more about interactive tables.';\n",
              "          element.innerHTML = '';\n",
              "          dataTable['output_type'] = 'display_data';\n",
              "          await google.colab.output.renderOutput(dataTable, element);\n",
              "          const docLink = document.createElement('div');\n",
              "          docLink.innerHTML = docLinkHtml;\n",
              "          element.appendChild(docLink);\n",
              "        }\n",
              "      </script>\n",
              "    </div>\n",
              "  </div>\n",
              "  "
            ],
            "text/plain": [
              "         Category  Rating  Reviews     Size  Installs  Type  Price  \\\n",
              "0  ART_AND_DESIGN     4.1      159  19000.0     10000  Free    0.0   \n",
              "1  ART_AND_DESIGN     3.9      967  14000.0    500000  Free    0.0   \n",
              "2  ART_AND_DESIGN     4.7    87510   8700.0   5000000  Free    0.0   \n",
              "3  ART_AND_DESIGN     4.5   215644  25000.0  50000000  Free    0.0   \n",
              "4  ART_AND_DESIGN     4.3      967   2800.0    100000  Free    0.0   \n",
              "\n",
              "  Content Rating   Android Ver  Date_Diff  \n",
              "0       Everyone  4.0.3 and up       1448  \n",
              "1       Everyone  4.0.3 and up       1440  \n",
              "2       Everyone  4.0.3 and up       1242  \n",
              "3           Teen    4.2 and up       1296  \n",
              "4       Everyone    4.4 and up       1284  "
            ]
          },
          "metadata": {},
          "execution_count": 462
        }
      ]
    },
    {
      "cell_type": "markdown",
      "source": [
        "# Scatterplot between Variables"
      ],
      "metadata": {
        "id": "_KIed70G_2Gt"
      }
    },
    {
      "cell_type": "code",
      "source": [
        "plt.figure(figsize=(10,10), facecolor='white')\n",
        "plotnumber = 1\n",
        "\n",
        "for column in test_cols:\n",
        "    if plotnumber<=6 :\n",
        "        ax = plt.subplot(3,3,plotnumber)\n",
        "        plt.scatter(df[column],df['Rating'])\n",
        "        plt.xlabel(column,fontsize=20)\n",
        "        plt.ylabel('Rating',fontsize=20)\n",
        "    plotnumber+=1\n",
        "plt.tight_layout()\n",
        "\n",
        "#Couldn't find any strong linear relationships"
      ],
      "metadata": {
        "colab": {
          "base_uri": "https://localhost:8080/",
          "height": 522
        },
        "id": "q-VC5E30_6ON",
        "outputId": "9a6bbf72-7507-4ef7-d32c-63a5590f2354"
      },
      "execution_count": null,
      "outputs": [
        {
          "output_type": "display_data",
          "data": {
            "image/png": "[encoded data removed]",
            "text/plain": [
              "<Figure size 720x720 with 6 Axes>"
            ]
          },
          "metadata": {}
        }
      ]
    },
    {
      "cell_type": "markdown",
      "source": [
        "# Box Plot for all numerical variables"
      ],
      "metadata": {
        "id": "zu8TQWUaCNca"
      }
    },
    {
      "cell_type": "code",
      "source": [
        "# let's see how data is distributed for every column\n",
        "plt.figure(figsize=(10,10), facecolor='white')\n",
        "plotnumber = 1\n",
        "\n",
        "for column in test_cols:\n",
        "    if plotnumber<=6 :\n",
        "        ax = plt.subplot(3,2,plotnumber)\n",
        "        sns.boxplot(df[column])\n",
        "        plt.xlabel(column,fontsize=20)\n",
        "        #plt.ylabel('Salary',fontsize=20)\n",
        "    plotnumber+=1\n",
        "plt.tight_layout()"
      ],
      "metadata": {
        "colab": {
          "base_uri": "https://localhost:8080/",
          "height": 970
        },
        "id": "33ZJDHDYCP47",
        "outputId": "db2cc490-f45e-4612-afaf-03e65588c2f9"
      },
      "execution_count": null,
      "outputs": [
        {
          "output_type": "stream",
          "name": "stderr",
          "text": [
            "/usr/local/lib/python3.7/dist-packages/seaborn/_decorators.py:43: FutureWarning: Pass the following variable as a keyword arg: x. From version 0.12, the only valid positional argument will be `data`, and passing other arguments without an explicit keyword will result in an error or misinterpretation.\n",
            "  FutureWarning\n",
            "/usr/local/lib/python3.7/dist-packages/seaborn/_decorators.py:43: FutureWarning: Pass the following variable as a keyword arg: x. From version 0.12, the only valid positional argument will be `data`, and passing other arguments without an explicit keyword will result in an error or misinterpretation.\n",
            "  FutureWarning\n",
            "/usr/local/lib/python3.7/dist-packages/seaborn/_decorators.py:43: FutureWarning: Pass the following variable as a keyword arg: x. From version 0.12, the only valid positional argument will be `data`, and passing other arguments without an explicit keyword will result in an error or misinterpretation.\n",
            "  FutureWarning\n",
            "/usr/local/lib/python3.7/dist-packages/seaborn/_decorators.py:43: FutureWarning: Pass the following variable as a keyword arg: x. From version 0.12, the only valid positional argument will be `data`, and passing other arguments without an explicit keyword will result in an error or misinterpretation.\n",
            "  FutureWarning\n",
            "/usr/local/lib/python3.7/dist-packages/seaborn/_decorators.py:43: FutureWarning: Pass the following variable as a keyword arg: x. From version 0.12, the only valid positional argument will be `data`, and passing other arguments without an explicit keyword will result in an error or misinterpretation.\n",
            "  FutureWarning\n",
            "/usr/local/lib/python3.7/dist-packages/seaborn/_decorators.py:43: FutureWarning: Pass the following variable as a keyword arg: x. From version 0.12, the only valid positional argument will be `data`, and passing other arguments without an explicit keyword will result in an error or misinterpretation.\n",
            "  FutureWarning\n"
          ]
        },
        {
          "output_type": "display_data",
          "data": {
            "image/png": "[encoded data removed]",
            "text/plain": [
              "<Figure size 720x720 with 6 Axes>"
            ]
          },
          "metadata": {}
        }
      ]
    },
    {
      "cell_type": "code",
      "source": [
        "sns.catplot(x='Type',y='Rating',data=df) \n",
        "#Paid Apps have few low ratings"
      ],
      "metadata": {
        "colab": {
          "base_uri": "https://localhost:8080/",
          "height": 387
        },
        "id": "n3DlXtiBDFVr",
        "outputId": "58180dee-9f1b-4fc6-f134-d9bc36e76981"
      },
      "execution_count": null,
      "outputs": [
        {
          "output_type": "execute_result",
          "data": {
            "text/plain": [
              "<seaborn.axisgrid.FacetGrid at 0x7f5ad45a5a90>"
            ]
          },
          "metadata": {},
          "execution_count": 465
        },
        {
          "output_type": "display_data",
          "data": {
            "image/png": "[encoded data removed]",
            "text/plain": [
              "<Figure size 360x360 with 1 Axes>"
            ]
          },
          "metadata": {
            "needs_background": "light"
          }
        }
      ]
    },
    {
      "cell_type": "code",
      "source": [
        "df.to_csv('cleanedratings.csv',index=False)"
      ],
      "metadata": {
        "id": "FsL6UoyLEXi2"
      },
      "execution_count": null,
      "outputs": []
    },
    {
      "cell_type": "markdown",
      "source": [
        "# Data preprocessing starts"
      ],
      "metadata": {
        "id": "HI9Eb9X0EUv5"
      }
    },
    {
      "cell_type": "code",
      "source": [
        "#Handle android version\n",
        "#As we can see there are lot of categories for supported Android version. SO we will take top 10 most frequent versions\n",
        "top10_androidv=df['Android Ver'].value_counts().sort_values(ascending=False).head(10).index\n",
        "top10_androidv=list(top10_androidv)\n",
        "print(top10_androidv)"
      ],
      "metadata": {
        "colab": {
          "base_uri": "https://localhost:8080/"
        },
        "id": "z3M8orscvkRV",
        "outputId": "6384eceb-99f0-4ed1-81e7-d29c7ef2ddb2"
      },
      "execution_count": 573,
      "outputs": [
        {
          "output_type": "stream",
          "name": "stdout",
          "text": [
            "['4.1 and up', 'Varies with device', '4.0.3 and up', '4.0 and up', '4.4 and up', '2.3 and up', '5.0 and up', '4.2 and up', '2.3.3 and up', '3.0 and up']\n"
          ]
        }
      ]
    },
    {
      "cell_type": "code",
      "source": [
        "for versions in top10_androidv:\n",
        "    df[versions]=np.where(df['Android Ver']==versions,1,0)\n",
        "df.drop(['Android Ver'],axis=1,inplace=True)\n"
      ],
      "metadata": {
        "id": "3Q67FmH34IXN"
      },
      "execution_count": 574,
      "outputs": []
    },
    {
      "cell_type": "code",
      "source": [
        "#Applying same logic for Categories\n",
        "df['Category'].value_counts().sort_values(ascending=False)\n",
        "top10_categories=df['Category'].value_counts().sort_values(ascending=False).head(10).index\n",
        "top10_categories=list(top10_categories)\n",
        "print(top10_categories)\n",
        "for category in top10_categories:\n",
        "    df[category]=np.where(df['Category']==category,1,0)\n",
        "df.drop(['Category'],axis=1,inplace=True)"
      ],
      "metadata": {
        "colab": {
          "base_uri": "https://localhost:8080/"
        },
        "id": "iqnpDk7h40KP",
        "outputId": "80e5599b-9206-4b99-ebff-62bd82e98ff7"
      },
      "execution_count": 575,
      "outputs": [
        {
          "output_type": "stream",
          "name": "stdout",
          "text": [
            "['FAMILY', 'GAME', 'TOOLS', 'PRODUCTIVITY', 'MEDICAL', 'COMMUNICATION', 'FINANCE', 'SPORTS', 'PHOTOGRAPHY', 'LIFESTYLE']\n"
          ]
        }
      ]
    },
    {
      "cell_type": "code",
      "source": [
        "df.head()"
      ],
      "metadata": {
        "colab": {
          "base_uri": "https://localhost:8080/",
          "height": 304
        },
        "id": "0Kgqbpj35S6h",
        "outputId": "c091ad7c-a211-430d-9fa7-131db28b5d3f"
      },
      "execution_count": 576,
      "outputs": [
        {
          "output_type": "execute_result",
          "data": {
            "text/html": [
              "\n",
              "  <div id=\"df-e5d709cf-7760-4b59-a9ec-716ae0125d2a\">\n",
              "    <div class=\"colab-df-container\">\n",
              "      <div>\n",
              "<style scoped>\n",
              "    .dataframe tbody tr th:only-of-type {\n",
              "        vertical-align: middle;\n",
              "    }\n",
              "\n",
              "    .dataframe tbody tr th {\n",
              "        vertical-align: top;\n",
              "    }\n",
              "\n",
              "    .dataframe thead th {\n",
              "        text-align: right;\n",
              "    }\n",
              "</style>\n",
              "<table border=\"1\" class=\"dataframe\">\n",
              "  <thead>\n",
              "    <tr style=\"text-align: right;\">\n",
              "      <th></th>\n",
              "      <th>Rating</th>\n",
              "      <th>Reviews</th>\n",
              "      <th>Size</th>\n",
              "      <th>Installs</th>\n",
              "      <th>Type</th>\n",
              "      <th>Price</th>\n",
              "      <th>Content Rating</th>\n",
              "      <th>Date_Diff</th>\n",
              "      <th>4.1 and up</th>\n",
              "      <th>Varies with device</th>\n",
              "      <th>4.0.3 and up</th>\n",
              "      <th>4.0 and up</th>\n",
              "      <th>4.4 and up</th>\n",
              "      <th>2.3 and up</th>\n",
              "      <th>5.0 and up</th>\n",
              "      <th>4.2 and up</th>\n",
              "      <th>2.3.3 and up</th>\n",
              "      <th>3.0 and up</th>\n",
              "      <th>FAMILY</th>\n",
              "      <th>GAME</th>\n",
              "      <th>TOOLS</th>\n",
              "      <th>PRODUCTIVITY</th>\n",
              "      <th>MEDICAL</th>\n",
              "      <th>COMMUNICATION</th>\n",
              "      <th>FINANCE</th>\n",
              "      <th>SPORTS</th>\n",
              "      <th>PHOTOGRAPHY</th>\n",
              "      <th>LIFESTYLE</th>\n",
              "    </tr>\n",
              "  </thead>\n",
              "  <tbody>\n",
              "    <tr>\n",
              "      <th>0</th>\n",
              "      <td>4.1</td>\n",
              "      <td>159</td>\n",
              "      <td>19000.0</td>\n",
              "      <td>10000</td>\n",
              "      <td>Free</td>\n",
              "      <td>0.0</td>\n",
              "      <td>Everyone</td>\n",
              "      <td>1448</td>\n",
              "      <td>0</td>\n",
              "      <td>0</td>\n",
              "      <td>1</td>\n",
              "      <td>0</td>\n",
              "      <td>0</td>\n",
              "      <td>0</td>\n",
              "      <td>0</td>\n",
              "      <td>0</td>\n",
              "      <td>0</td>\n",
              "      <td>0</td>\n",
              "      <td>0</td>\n",
              "      <td>0</td>\n",
              "      <td>0</td>\n",
              "      <td>0</td>\n",
              "      <td>0</td>\n",
              "      <td>0</td>\n",
              "      <td>0</td>\n",
              "      <td>0</td>\n",
              "      <td>0</td>\n",
              "      <td>0</td>\n",
              "    </tr>\n",
              "    <tr>\n",
              "      <th>1</th>\n",
              "      <td>3.9</td>\n",
              "      <td>967</td>\n",
              "      <td>14000.0</td>\n",
              "      <td>500000</td>\n",
              "      <td>Free</td>\n",
              "      <td>0.0</td>\n",
              "      <td>Everyone</td>\n",
              "      <td>1440</td>\n",
              "      <td>0</td>\n",
              "      <td>0</td>\n",
              "      <td>1</td>\n",
              "      <td>0</td>\n",
              "      <td>0</td>\n",
              "      <td>0</td>\n",
              "      <td>0</td>\n",
              "      <td>0</td>\n",
              "      <td>0</td>\n",
              "      <td>0</td>\n",
              "      <td>0</td>\n",
              "      <td>0</td>\n",
              "      <td>0</td>\n",
              "      <td>0</td>\n",
              "      <td>0</td>\n",
              "      <td>0</td>\n",
              "      <td>0</td>\n",
              "      <td>0</td>\n",
              "      <td>0</td>\n",
              "      <td>0</td>\n",
              "    </tr>\n",
              "    <tr>\n",
              "      <th>2</th>\n",
              "      <td>4.7</td>\n",
              "      <td>87510</td>\n",
              "      <td>8700.0</td>\n",
              "      <td>5000000</td>\n",
              "      <td>Free</td>\n",
              "      <td>0.0</td>\n",
              "      <td>Everyone</td>\n",
              "      <td>1242</td>\n",
              "      <td>0</td>\n",
              "      <td>0</td>\n",
              "      <td>1</td>\n",
              "      <td>0</td>\n",
              "      <td>0</td>\n",
              "      <td>0</td>\n",
              "      <td>0</td>\n",
              "      <td>0</td>\n",
              "      <td>0</td>\n",
              "      <td>0</td>\n",
              "      <td>0</td>\n",
              "      <td>0</td>\n",
              "      <td>0</td>\n",
              "      <td>0</td>\n",
              "      <td>0</td>\n",
              "      <td>0</td>\n",
              "      <td>0</td>\n",
              "      <td>0</td>\n",
              "      <td>0</td>\n",
              "      <td>0</td>\n",
              "    </tr>\n",
              "    <tr>\n",
              "      <th>3</th>\n",
              "      <td>4.5</td>\n",
              "      <td>215644</td>\n",
              "      <td>25000.0</td>\n",
              "      <td>50000000</td>\n",
              "      <td>Free</td>\n",
              "      <td>0.0</td>\n",
              "      <td>Teen</td>\n",
              "      <td>1296</td>\n",
              "      <td>0</td>\n",
              "      <td>0</td>\n",
              "      <td>0</td>\n",
              "      <td>0</td>\n",
              "      <td>0</td>\n",
              "      <td>0</td>\n",
              "      <td>0</td>\n",
              "      <td>1</td>\n",
              "      <td>0</td>\n",
              "      <td>0</td>\n",
              "      <td>0</td>\n",
              "      <td>0</td>\n",
              "      <td>0</td>\n",
              "      <td>0</td>\n",
              "      <td>0</td>\n",
              "      <td>0</td>\n",
              "      <td>0</td>\n",
              "      <td>0</td>\n",
              "      <td>0</td>\n",
              "      <td>0</td>\n",
              "    </tr>\n",
              "    <tr>\n",
              "      <th>4</th>\n",
              "      <td>4.3</td>\n",
              "      <td>967</td>\n",
              "      <td>2800.0</td>\n",
              "      <td>100000</td>\n",
              "      <td>Free</td>\n",
              "      <td>0.0</td>\n",
              "      <td>Everyone</td>\n",
              "      <td>1284</td>\n",
              "      <td>0</td>\n",
              "      <td>0</td>\n",
              "      <td>0</td>\n",
              "      <td>0</td>\n",
              "      <td>1</td>\n",
              "      <td>0</td>\n",
              "      <td>0</td>\n",
              "      <td>0</td>\n",
              "      <td>0</td>\n",
              "      <td>0</td>\n",
              "      <td>0</td>\n",
              "      <td>0</td>\n",
              "      <td>0</td>\n",
              "      <td>0</td>\n",
              "      <td>0</td>\n",
              "      <td>0</td>\n",
              "      <td>0</td>\n",
              "      <td>0</td>\n",
              "      <td>0</td>\n",
              "      <td>0</td>\n",
              "    </tr>\n",
              "  </tbody>\n",
              "</table>\n",
              "</div>\n",
              "      <button class=\"colab-df-convert\" onclick=\"convertToInteractive('df-e5d709cf-7760-4b59-a9ec-716ae0125d2a')\"\n",
              "              title=\"Convert this dataframe to an interactive table.\"\n",
              "              style=\"display:none;\">\n",
              "        \n",
              "  <svg xmlns=\"http://www.w3.org/2000/svg\" height=\"24px\"viewBox=\"0 0 24 24\"\n",
              "       width=\"24px\">\n",
              "    <path d=\"M0 0h24v24H0V0z\" fill=\"none\"/>\n",
              "    <path d=\"M18.56 5.44l.94 2.06.94-2.06 2.06-.94-2.06-.94-.94-2.06-.94 2.06-2.06.94zm-11 1L8.5 8.5l.94-2.06 2.06-.94-2.06-.94L8.5 2.5l-.94 2.06-2.06.94zm10 10l.94 2.06.94-2.06 2.06-.94-2.06-.94-.94-2.06-.94 2.06-2.06.94z\"/><path d=\"M17.41 7.96l-1.37-1.37c-.4-.4-.92-.59-1.43-.59-.52 0-1.04.2-1.43.59L10.3 9.45l-7.72 7.72c-.78.78-.78 2.05 0 2.83L4 21.41c.39.39.9.59 1.41.59.51 0 1.02-.2 1.41-.59l7.78-7.78 2.81-2.81c.8-.78.8-2.07 0-2.86zM5.41 20L4 18.59l7.72-7.72 1.47 1.35L5.41 20z\"/>\n",
              "  </svg>\n",
              "      </button>\n",
              "      \n",
              "  <style>\n",
              "    .colab-df-container {\n",
              "      display:flex;\n",
              "      flex-wrap:wrap;\n",
              "      gap: 12px;\n",
              "    }\n",
              "\n",
              "    .colab-df-convert {\n",
              "      background-color: #E8F0FE;\n",
              "      border: none;\n",
              "      border-radius: 50%;\n",
              "      cursor: pointer;\n",
              "      display: none;\n",
              "      fill: #1967D2;\n",
              "      height: 32px;\n",
              "      padding: 0 0 0 0;\n",
              "      width: 32px;\n",
              "    }\n",
              "\n",
              "    .colab-df-convert:hover {\n",
              "      background-color: #E2EBFA;\n",
              "      box-shadow: 0px 1px 2px rgba(60, 64, 67, 0.3), 0px 1px 3px 1px rgba(60, 64, 67, 0.15);\n",
              "      fill: #174EA6;\n",
              "    }\n",
              "\n",
              "    [theme=dark] .colab-df-convert {\n",
              "      background-color: #3B4455;\n",
              "      fill: #D2E3FC;\n",
              "    }\n",
              "\n",
              "    [theme=dark] .colab-df-convert:hover {\n",
              "      background-color: #434B5C;\n",
              "      box-shadow: 0px 1px 3px 1px rgba(0, 0, 0, 0.15);\n",
              "      filter: drop-shadow(0px 1px 2px rgba(0, 0, 0, 0.3));\n",
              "      fill: #FFFFFF;\n",
              "    }\n",
              "  </style>\n",
              "\n",
              "      <script>\n",
              "        const buttonEl =\n",
              "          document.querySelector('#df-e5d709cf-7760-4b59-a9ec-716ae0125d2a button.colab-df-convert');\n",
              "        buttonEl.style.display =\n",
              "          google.colab.kernel.accessAllowed ? 'block' : 'none';\n",
              "\n",
              "        async function convertToInteractive(key) {\n",
              "          const element = document.querySelector('#df-e5d709cf-7760-4b59-a9ec-716ae0125d2a');\n",
              "          const dataTable =\n",
              "            await google.colab.kernel.invokeFunction('convertToInteractive',\n",
              "                                                     [key], {});\n",
              "          if (!dataTable) return;\n",
              "\n",
              "          const docLinkHtml = 'Like what you see? Visit the ' +\n",
              "            '<a target=\"_blank\" href=https://colab.research.google.com/notebooks/data_table.ipynb>data table notebook</a>'\n",
              "            + ' to learn more about interactive tables.';\n",
              "          element.innerHTML = '';\n",
              "          dataTable['output_type'] = 'display_data';\n",
              "          await google.colab.output.renderOutput(dataTable, element);\n",
              "          const docLink = document.createElement('div');\n",
              "          docLink.innerHTML = docLinkHtml;\n",
              "          element.appendChild(docLink);\n",
              "        }\n",
              "      </script>\n",
              "    </div>\n",
              "  </div>\n",
              "  "
            ],
            "text/plain": [
              "   Rating  Reviews     Size  Installs  Type  Price Content Rating  Date_Diff  \\\n",
              "0     4.1      159  19000.0     10000  Free    0.0       Everyone       1448   \n",
              "1     3.9      967  14000.0    500000  Free    0.0       Everyone       1440   \n",
              "2     4.7    87510   8700.0   5000000  Free    0.0       Everyone       1242   \n",
              "3     4.5   215644  25000.0  50000000  Free    0.0           Teen       1296   \n",
              "4     4.3      967   2800.0    100000  Free    0.0       Everyone       1284   \n",
              "\n",
              "   4.1 and up  Varies with device  4.0.3 and up  4.0 and up  4.4 and up  \\\n",
              "0           0                   0             1           0           0   \n",
              "1           0                   0             1           0           0   \n",
              "2           0                   0             1           0           0   \n",
              "3           0                   0             0           0           0   \n",
              "4           0                   0             0           0           1   \n",
              "\n",
              "   2.3 and up  5.0 and up  4.2 and up  2.3.3 and up  3.0 and up  FAMILY  GAME  \\\n",
              "0           0           0           0             0           0       0     0   \n",
              "1           0           0           0             0           0       0     0   \n",
              "2           0           0           0             0           0       0     0   \n",
              "3           0           0           1             0           0       0     0   \n",
              "4           0           0           0             0           0       0     0   \n",
              "\n",
              "   TOOLS  PRODUCTIVITY  MEDICAL  COMMUNICATION  FINANCE  SPORTS  PHOTOGRAPHY  \\\n",
              "0      0             0        0              0        0       0            0   \n",
              "1      0             0        0              0        0       0            0   \n",
              "2      0             0        0              0        0       0            0   \n",
              "3      0             0        0              0        0       0            0   \n",
              "4      0             0        0              0        0       0            0   \n",
              "\n",
              "   LIFESTYLE  \n",
              "0          0  \n",
              "1          0  \n",
              "2          0  \n",
              "3          0  \n",
              "4          0  "
            ]
          },
          "metadata": {},
          "execution_count": 576
        }
      ]
    },
    {
      "cell_type": "code",
      "source": [
        "#Create dummy Variables for Type and Content Rating\n",
        "for col in ['Type','Content Rating']:\n",
        "    df=pd.get_dummies(df, columns=[col], prefix=[col], drop_first=True)\n",
        "df.head()"
      ],
      "metadata": {
        "id": "9mxxghVboRPD",
        "colab": {
          "base_uri": "https://localhost:8080/",
          "height": 304
        },
        "outputId": "b48231c2-eff5-4310-904b-ae9191bf5ee3"
      },
      "execution_count": 577,
      "outputs": [
        {
          "output_type": "execute_result",
          "data": {
            "text/html": [
              "\n",
              "  <div id=\"df-6cb1796e-c968-454b-ac75-81111a805659\">\n",
              "    <div class=\"colab-df-container\">\n",
              "      <div>\n",
              "<style scoped>\n",
              "    .dataframe tbody tr th:only-of-type {\n",
              "        vertical-align: middle;\n",
              "    }\n",
              "\n",
              "    .dataframe tbody tr th {\n",
              "        vertical-align: top;\n",
              "    }\n",
              "\n",
              "    .dataframe thead th {\n",
              "        text-align: right;\n",
              "    }\n",
              "</style>\n",
              "<table border=\"1\" class=\"dataframe\">\n",
              "  <thead>\n",
              "    <tr style=\"text-align: right;\">\n",
              "      <th></th>\n",
              "      <th>Rating</th>\n",
              "      <th>Reviews</th>\n",
              "      <th>Size</th>\n",
              "      <th>Installs</th>\n",
              "      <th>Price</th>\n",
              "      <th>Date_Diff</th>\n",
              "      <th>4.1 and up</th>\n",
              "      <th>Varies with device</th>\n",
              "      <th>4.0.3 and up</th>\n",
              "      <th>4.0 and up</th>\n",
              "      <th>4.4 and up</th>\n",
              "      <th>2.3 and up</th>\n",
              "      <th>5.0 and up</th>\n",
              "      <th>4.2 and up</th>\n",
              "      <th>2.3.3 and up</th>\n",
              "      <th>3.0 and up</th>\n",
              "      <th>FAMILY</th>\n",
              "      <th>GAME</th>\n",
              "      <th>TOOLS</th>\n",
              "      <th>PRODUCTIVITY</th>\n",
              "      <th>MEDICAL</th>\n",
              "      <th>COMMUNICATION</th>\n",
              "      <th>FINANCE</th>\n",
              "      <th>SPORTS</th>\n",
              "      <th>PHOTOGRAPHY</th>\n",
              "      <th>LIFESTYLE</th>\n",
              "      <th>Type_Paid</th>\n",
              "      <th>Content Rating_Everyone</th>\n",
              "      <th>Content Rating_Everyone 10+</th>\n",
              "      <th>Content Rating_Mature 17+</th>\n",
              "      <th>Content Rating_Teen</th>\n",
              "      <th>Content Rating_Unrated</th>\n",
              "    </tr>\n",
              "  </thead>\n",
              "  <tbody>\n",
              "    <tr>\n",
              "      <th>0</th>\n",
              "      <td>4.1</td>\n",
              "      <td>159</td>\n",
              "      <td>19000.0</td>\n",
              "      <td>10000</td>\n",
              "      <td>0.0</td>\n",
              "      <td>1448</td>\n",
              "      <td>0</td>\n",
              "      <td>0</td>\n",
              "      <td>1</td>\n",
              "      <td>0</td>\n",
              "      <td>0</td>\n",
              "      <td>0</td>\n",
              "      <td>0</td>\n",
              "      <td>0</td>\n",
              "      <td>0</td>\n",
              "      <td>0</td>\n",
              "      <td>0</td>\n",
              "      <td>0</td>\n",
              "      <td>0</td>\n",
              "      <td>0</td>\n",
              "      <td>0</td>\n",
              "      <td>0</td>\n",
              "      <td>0</td>\n",
              "      <td>0</td>\n",
              "      <td>0</td>\n",
              "      <td>0</td>\n",
              "      <td>0</td>\n",
              "      <td>1</td>\n",
              "      <td>0</td>\n",
              "      <td>0</td>\n",
              "      <td>0</td>\n",
              "      <td>0</td>\n",
              "    </tr>\n",
              "    <tr>\n",
              "      <th>1</th>\n",
              "      <td>3.9</td>\n",
              "      <td>967</td>\n",
              "      <td>14000.0</td>\n",
              "      <td>500000</td>\n",
              "      <td>0.0</td>\n",
              "      <td>1440</td>\n",
              "      <td>0</td>\n",
              "      <td>0</td>\n",
              "      <td>1</td>\n",
              "      <td>0</td>\n",
              "      <td>0</td>\n",
              "      <td>0</td>\n",
              "      <td>0</td>\n",
              "      <td>0</td>\n",
              "      <td>0</td>\n",
              "      <td>0</td>\n",
              "      <td>0</td>\n",
              "      <td>0</td>\n",
              "      <td>0</td>\n",
              "      <td>0</td>\n",
              "      <td>0</td>\n",
              "      <td>0</td>\n",
              "      <td>0</td>\n",
              "      <td>0</td>\n",
              "      <td>0</td>\n",
              "      <td>0</td>\n",
              "      <td>0</td>\n",
              "      <td>1</td>\n",
              "      <td>0</td>\n",
              "      <td>0</td>\n",
              "      <td>0</td>\n",
              "      <td>0</td>\n",
              "    </tr>\n",
              "    <tr>\n",
              "      <th>2</th>\n",
              "      <td>4.7</td>\n",
              "      <td>87510</td>\n",
              "      <td>8700.0</td>\n",
              "      <td>5000000</td>\n",
              "      <td>0.0</td>\n",
              "      <td>1242</td>\n",
              "      <td>0</td>\n",
              "      <td>0</td>\n",
              "      <td>1</td>\n",
              "      <td>0</td>\n",
              "      <td>0</td>\n",
              "      <td>0</td>\n",
              "      <td>0</td>\n",
              "      <td>0</td>\n",
              "      <td>0</td>\n",
              "      <td>0</td>\n",
              "      <td>0</td>\n",
              "      <td>0</td>\n",
              "      <td>0</td>\n",
              "      <td>0</td>\n",
              "      <td>0</td>\n",
              "      <td>0</td>\n",
              "      <td>0</td>\n",
              "      <td>0</td>\n",
              "      <td>0</td>\n",
              "      <td>0</td>\n",
              "      <td>0</td>\n",
              "      <td>1</td>\n",
              "      <td>0</td>\n",
              "      <td>0</td>\n",
              "      <td>0</td>\n",
              "      <td>0</td>\n",
              "    </tr>\n",
              "    <tr>\n",
              "      <th>3</th>\n",
              "      <td>4.5</td>\n",
              "      <td>215644</td>\n",
              "      <td>25000.0</td>\n",
              "      <td>50000000</td>\n",
              "      <td>0.0</td>\n",
              "      <td>1296</td>\n",
              "      <td>0</td>\n",
              "      <td>0</td>\n",
              "      <td>0</td>\n",
              "      <td>0</td>\n",
              "      <td>0</td>\n",
              "      <td>0</td>\n",
              "      <td>0</td>\n",
              "      <td>1</td>\n",
              "      <td>0</td>\n",
              "      <td>0</td>\n",
              "      <td>0</td>\n",
              "      <td>0</td>\n",
              "      <td>0</td>\n",
              "      <td>0</td>\n",
              "      <td>0</td>\n",
              "      <td>0</td>\n",
              "      <td>0</td>\n",
              "      <td>0</td>\n",
              "      <td>0</td>\n",
              "      <td>0</td>\n",
              "      <td>0</td>\n",
              "      <td>0</td>\n",
              "      <td>0</td>\n",
              "      <td>0</td>\n",
              "      <td>1</td>\n",
              "      <td>0</td>\n",
              "    </tr>\n",
              "    <tr>\n",
              "      <th>4</th>\n",
              "      <td>4.3</td>\n",
              "      <td>967</td>\n",
              "      <td>2800.0</td>\n",
              "      <td>100000</td>\n",
              "      <td>0.0</td>\n",
              "      <td>1284</td>\n",
              "      <td>0</td>\n",
              "      <td>0</td>\n",
              "      <td>0</td>\n",
              "      <td>0</td>\n",
              "      <td>1</td>\n",
              "      <td>0</td>\n",
              "      <td>0</td>\n",
              "      <td>0</td>\n",
              "      <td>0</td>\n",
              "      <td>0</td>\n",
              "      <td>0</td>\n",
              "      <td>0</td>\n",
              "      <td>0</td>\n",
              "      <td>0</td>\n",
              "      <td>0</td>\n",
              "      <td>0</td>\n",
              "      <td>0</td>\n",
              "      <td>0</td>\n",
              "      <td>0</td>\n",
              "      <td>0</td>\n",
              "      <td>0</td>\n",
              "      <td>1</td>\n",
              "      <td>0</td>\n",
              "      <td>0</td>\n",
              "      <td>0</td>\n",
              "      <td>0</td>\n",
              "    </tr>\n",
              "  </tbody>\n",
              "</table>\n",
              "</div>\n",
              "      <button class=\"colab-df-convert\" onclick=\"convertToInteractive('df-6cb1796e-c968-454b-ac75-81111a805659')\"\n",
              "              title=\"Convert this dataframe to an interactive table.\"\n",
              "              style=\"display:none;\">\n",
              "        \n",
              "  <svg xmlns=\"http://www.w3.org/2000/svg\" height=\"24px\"viewBox=\"0 0 24 24\"\n",
              "       width=\"24px\">\n",
              "    <path d=\"M0 0h24v24H0V0z\" fill=\"none\"/>\n",
              "    <path d=\"M18.56 5.44l.94 2.06.94-2.06 2.06-.94-2.06-.94-.94-2.06-.94 2.06-2.06.94zm-11 1L8.5 8.5l.94-2.06 2.06-.94-2.06-.94L8.5 2.5l-.94 2.06-2.06.94zm10 10l.94 2.06.94-2.06 2.06-.94-2.06-.94-.94-2.06-.94 2.06-2.06.94z\"/><path d=\"M17.41 7.96l-1.37-1.37c-.4-.4-.92-.59-1.43-.59-.52 0-1.04.2-1.43.59L10.3 9.45l-7.72 7.72c-.78.78-.78 2.05 0 2.83L4 21.41c.39.39.9.59 1.41.59.51 0 1.02-.2 1.41-.59l7.78-7.78 2.81-2.81c.8-.78.8-2.07 0-2.86zM5.41 20L4 18.59l7.72-7.72 1.47 1.35L5.41 20z\"/>\n",
              "  </svg>\n",
              "      </button>\n",
              "      \n",
              "  <style>\n",
              "    .colab-df-container {\n",
              "      display:flex;\n",
              "      flex-wrap:wrap;\n",
              "      gap: 12px;\n",
              "    }\n",
              "\n",
              "    .colab-df-convert {\n",
              "      background-color: #E8F0FE;\n",
              "      border: none;\n",
              "      border-radius: 50%;\n",
              "      cursor: pointer;\n",
              "      display: none;\n",
              "      fill: #1967D2;\n",
              "      height: 32px;\n",
              "      padding: 0 0 0 0;\n",
              "      width: 32px;\n",
              "    }\n",
              "\n",
              "    .colab-df-convert:hover {\n",
              "      background-color: #E2EBFA;\n",
              "      box-shadow: 0px 1px 2px rgba(60, 64, 67, 0.3), 0px 1px 3px 1px rgba(60, 64, 67, 0.15);\n",
              "      fill: #174EA6;\n",
              "    }\n",
              "\n",
              "    [theme=dark] .colab-df-convert {\n",
              "      background-color: #3B4455;\n",
              "      fill: #D2E3FC;\n",
              "    }\n",
              "\n",
              "    [theme=dark] .colab-df-convert:hover {\n",
              "      background-color: #434B5C;\n",
              "      box-shadow: 0px 1px 3px 1px rgba(0, 0, 0, 0.15);\n",
              "      filter: drop-shadow(0px 1px 2px rgba(0, 0, 0, 0.3));\n",
              "      fill: #FFFFFF;\n",
              "    }\n",
              "  </style>\n",
              "\n",
              "      <script>\n",
              "        const buttonEl =\n",
              "          document.querySelector('#df-6cb1796e-c968-454b-ac75-81111a805659 button.colab-df-convert');\n",
              "        buttonEl.style.display =\n",
              "          google.colab.kernel.accessAllowed ? 'block' : 'none';\n",
              "\n",
              "        async function convertToInteractive(key) {\n",
              "          const element = document.querySelector('#df-6cb1796e-c968-454b-ac75-81111a805659');\n",
              "          const dataTable =\n",
              "            await google.colab.kernel.invokeFunction('convertToInteractive',\n",
              "                                                     [key], {});\n",
              "          if (!dataTable) return;\n",
              "\n",
              "          const docLinkHtml = 'Like what you see? Visit the ' +\n",
              "            '<a target=\"_blank\" href=https://colab.research.google.com/notebooks/data_table.ipynb>data table notebook</a>'\n",
              "            + ' to learn more about interactive tables.';\n",
              "          element.innerHTML = '';\n",
              "          dataTable['output_type'] = 'display_data';\n",
              "          await google.colab.output.renderOutput(dataTable, element);\n",
              "          const docLink = document.createElement('div');\n",
              "          docLink.innerHTML = docLinkHtml;\n",
              "          element.appendChild(docLink);\n",
              "        }\n",
              "      </script>\n",
              "    </div>\n",
              "  </div>\n",
              "  "
            ],
            "text/plain": [
              "   Rating  Reviews     Size  Installs  Price  Date_Diff  4.1 and up  \\\n",
              "0     4.1      159  19000.0     10000    0.0       1448           0   \n",
              "1     3.9      967  14000.0    500000    0.0       1440           0   \n",
              "2     4.7    87510   8700.0   5000000    0.0       1242           0   \n",
              "3     4.5   215644  25000.0  50000000    0.0       1296           0   \n",
              "4     4.3      967   2800.0    100000    0.0       1284           0   \n",
              "\n",
              "   Varies with device  4.0.3 and up  4.0 and up  4.4 and up  2.3 and up  \\\n",
              "0                   0             1           0           0           0   \n",
              "1                   0             1           0           0           0   \n",
              "2                   0             1           0           0           0   \n",
              "3                   0             0           0           0           0   \n",
              "4                   0             0           0           1           0   \n",
              "\n",
              "   5.0 and up  4.2 and up  2.3.3 and up  3.0 and up  FAMILY  GAME  TOOLS  \\\n",
              "0           0           0             0           0       0     0      0   \n",
              "1           0           0             0           0       0     0      0   \n",
              "2           0           0             0           0       0     0      0   \n",
              "3           0           1             0           0       0     0      0   \n",
              "4           0           0             0           0       0     0      0   \n",
              "\n",
              "   PRODUCTIVITY  MEDICAL  COMMUNICATION  FINANCE  SPORTS  PHOTOGRAPHY  \\\n",
              "0             0        0              0        0       0            0   \n",
              "1             0        0              0        0       0            0   \n",
              "2             0        0              0        0       0            0   \n",
              "3             0        0              0        0       0            0   \n",
              "4             0        0              0        0       0            0   \n",
              "\n",
              "   LIFESTYLE  Type_Paid  Content Rating_Everyone  Content Rating_Everyone 10+  \\\n",
              "0          0          0                        1                            0   \n",
              "1          0          0                        1                            0   \n",
              "2          0          0                        1                            0   \n",
              "3          0          0                        0                            0   \n",
              "4          0          0                        1                            0   \n",
              "\n",
              "   Content Rating_Mature 17+  Content Rating_Teen  Content Rating_Unrated  \n",
              "0                          0                    0                       0  \n",
              "1                          0                    0                       0  \n",
              "2                          0                    0                       0  \n",
              "3                          0                    1                       0  \n",
              "4                          0                    0                       0  "
            ]
          },
          "metadata": {},
          "execution_count": 577
        }
      ]
    },
    {
      "cell_type": "markdown",
      "source": [
        "#Scaling the dataset"
      ],
      "metadata": {
        "id": "AOUdSUaqGpkN"
      }
    },
    {
      "cell_type": "code",
      "source": [
        "#Scaling the numerical columns\n",
        "scaler =StandardScaler()\n",
        "#numerical_cols.remove('Rating')\n",
        "print(numerical_cols)\n",
        "X_scaled = scaler.fit_transform(df[numerical_cols])\n",
        "X_scaled"
      ],
      "metadata": {
        "colab": {
          "base_uri": "https://localhost:8080/"
        },
        "id": "NsxQE46yGVw-",
        "outputId": "5656411a-23be-4184-a961-de24cb213b74"
      },
      "execution_count": 578,
      "outputs": [
        {
          "output_type": "stream",
          "name": "stdout",
          "text": [
            "['Reviews', 'Size', 'Installs', 'Price', 'Date_Diff']\n"
          ]
        },
        {
          "output_type": "execute_result",
          "data": {
            "text/plain": [
              "array([[-1.63475738e-01,  2.27260498e-03, -1.96084315e-01,\n",
              "        -6.07541331e-02, -9.74341591e-02],\n",
              "       [-1.63218757e-01, -2.14985083e-01, -1.90714024e-01,\n",
              "        -6.07541331e-02, -1.17611322e-01],\n",
              "       [-1.35694118e-01, -4.45278233e-01, -1.41395017e-01,\n",
              "        -6.07541331e-02, -6.16996099e-01],\n",
              "       ...,\n",
              "       [-1.63525035e-01, -6.66881075e-01, -1.96192817e-01,\n",
              "        -6.07541331e-02, -5.51420320e-01],\n",
              "       [-1.63490050e-01, -8.23306610e-01, -1.96182953e-01,\n",
              "        -6.07541331e-02,  2.63657139e+00],\n",
              "       [-3.68464304e-02,  2.27260498e-03, -8.65961214e-02,\n",
              "        -6.07541331e-02, -5.99341082e-01]])"
            ]
          },
          "metadata": {},
          "execution_count": 578
        }
      ]
    },
    {
      "cell_type": "code",
      "source": [
        "#Adding Categorical Variables to them \n",
        "newcat_cols=list(df.columns[6:])\n",
        "print(newcat_cols)\n",
        "X_scaled = np.column_stack((X_scaled, df[newcat_cols].values))\n",
        "print(\"Shape after adding categorical value\")\n",
        "X_scaled.shape"
      ],
      "metadata": {
        "colab": {
          "base_uri": "https://localhost:8080/"
        },
        "id": "ZPP66x6gH3XK",
        "outputId": "a4b4bfed-d04a-41a6-9bea-9d1649689efb"
      },
      "execution_count": 581,
      "outputs": [
        {
          "output_type": "stream",
          "name": "stdout",
          "text": [
            "['4.1 and up', 'Varies with device', '4.0.3 and up', '4.0 and up', '4.4 and up', '2.3 and up', '5.0 and up', '4.2 and up', '2.3.3 and up', '3.0 and up', 'FAMILY', 'GAME', 'TOOLS', 'PRODUCTIVITY', 'MEDICAL', 'COMMUNICATION', 'FINANCE', 'SPORTS', 'PHOTOGRAPHY', 'LIFESTYLE', 'Type_Paid', 'Content Rating_Everyone', 'Content Rating_Everyone 10+', 'Content Rating_Mature 17+', 'Content Rating_Teen', 'Content Rating_Unrated']\n",
            "Shape after adding categorical value\n"
          ]
        },
        {
          "output_type": "execute_result",
          "data": {
            "text/plain": [
              "(9364, 31)"
            ]
          },
          "metadata": {},
          "execution_count": 581
        }
      ]
    },
    {
      "cell_type": "code",
      "source": [
        "total_cols=numerical_cols+newcat_cols\n",
        "print(total_cols)\n",
        "print(len(total_cols))"
      ],
      "metadata": {
        "colab": {
          "base_uri": "https://localhost:8080/"
        },
        "id": "viEXVkclmn5S",
        "outputId": "5f57de8f-98b0-4bf0-9abf-7e1a76bfb4d9"
      },
      "execution_count": 585,
      "outputs": [
        {
          "output_type": "stream",
          "name": "stdout",
          "text": [
            "['Reviews', 'Size', 'Installs', 'Price', 'Date_Diff', '4.1 and up', 'Varies with device', '4.0.3 and up', '4.0 and up', '4.4 and up', '2.3 and up', '5.0 and up', '4.2 and up', '2.3.3 and up', '3.0 and up', 'FAMILY', 'GAME', 'TOOLS', 'PRODUCTIVITY', 'MEDICAL', 'COMMUNICATION', 'FINANCE', 'SPORTS', 'PHOTOGRAPHY', 'LIFESTYLE', 'Type_Paid', 'Content Rating_Everyone', 'Content Rating_Everyone 10+', 'Content Rating_Mature 17+', 'Content Rating_Teen', 'Content Rating_Unrated']\n",
            "31\n"
          ]
        }
      ]
    },
    {
      "cell_type": "markdown",
      "source": [
        "\n",
        "# The Input narray is in the order \n",
        "\n",
        "\n",
        "```\n",
        "# This is formatted as code\n",
        "```\n",
        "\n",
        "['Reviews', 'Size', 'Installs', 'Price', 'Date_Diff', '4.1 and up', 'Varies with device', '4.0.3 and up', '4.0 and up', '4.4 and up', '2.3 and up', '5.0 and up', '4.2 and up', '2.3.3 and up', '3.0 and up', 'FAMILY', 'GAME', 'TOOLS', 'PRODUCTIVITY', 'MEDICAL', 'COMMUNICATION', 'FINANCE', 'SPORTS', 'PHOTOGRAPHY', 'LIFESTYLE', 'Type_Paid', 'Content Rating_Everyone', 'Content Rating_Everyone 10+', 'Content Rating_Mature 17+', 'Content Rating_Teen', 'Content Rating_Unrated']\n",
        "\n",
        "\n"
      ],
      "metadata": {
        "id": "heuR_DheJ1wu"
      }
    },
    {
      "cell_type": "code",
      "source": [
        "X_scaled[0:1]\n"
      ],
      "metadata": {
        "colab": {
          "base_uri": "https://localhost:8080/"
        },
        "id": "Pu1erX0cG47R",
        "outputId": "0554714f-cbc2-4202-e117-544659dafbeb"
      },
      "execution_count": 586,
      "outputs": [
        {
          "output_type": "execute_result",
          "data": {
            "text/plain": [
              "array([[-0.16347574,  0.0022726 , -0.19608432, -0.06075413, -0.09743416,\n",
              "         0.        ,  0.        ,  1.        ,  0.        ,  0.        ,\n",
              "         0.        ,  0.        ,  0.        ,  0.        ,  0.        ,\n",
              "         0.        ,  0.        ,  0.        ,  0.        ,  0.        ,\n",
              "         0.        ,  0.        ,  0.        ,  0.        ,  0.        ,\n",
              "         0.        ,  1.        ,  0.        ,  0.        ,  0.        ,\n",
              "         0.        ]])"
            ]
          },
          "metadata": {},
          "execution_count": 586
        }
      ]
    },
    {
      "cell_type": "markdown",
      "source": [
        "Divide dataset into training test split"
      ],
      "metadata": {
        "id": "jF4KNCHbKBJZ"
      }
    },
    {
      "cell_type": "code",
      "source": [
        "y=df['Rating']\n",
        "x_train,x_test,y_train,y_test = train_test_split(X_scaled,y,test_size = 0.20,random_state=40)"
      ],
      "metadata": {
        "id": "rmkd7j04JJ6X"
      },
      "execution_count": 587,
      "outputs": []
    },
    {
      "cell_type": "code",
      "source": [
        "x_train.shape,x_test.shape"
      ],
      "metadata": {
        "colab": {
          "base_uri": "https://localhost:8080/"
        },
        "id": "fH_RCEHKKUXG",
        "outputId": "8e13cab2-b499-4bb9-96bb-65d01865b989"
      },
      "execution_count": 588,
      "outputs": [
        {
          "output_type": "execute_result",
          "data": {
            "text/plain": [
              "((7491, 31), (1873, 31))"
            ]
          },
          "metadata": {},
          "execution_count": 588
        }
      ]
    },
    {
      "cell_type": "markdown",
      "source": [
        "# Develop ML model to predict App Ratings. We will develop KNN and ForestRegressor as there are many outliers present"
      ],
      "metadata": {
        "id": "qnnLeVypKiEh"
      }
    },
    {
      "cell_type": "code",
      "source": [
        "\n",
        "model1 = ExtraTreesRegressor()\n",
        "model1.fit(x_train,y_train)"
      ],
      "metadata": {
        "colab": {
          "base_uri": "https://localhost:8080/"
        },
        "id": "UnTOeaBXMeMt",
        "outputId": "7174911c-a3e1-4049-c252-1b0a1c4534d0"
      },
      "execution_count": 589,
      "outputs": [
        {
          "output_type": "execute_result",
          "data": {
            "text/plain": [
              "ExtraTreesRegressor()"
            ]
          },
          "metadata": {},
          "execution_count": 589
        }
      ]
    },
    {
      "cell_type": "code",
      "source": [
        "modelList=[]\n",
        "metrics={}\n",
        "metrics['modelName']='Extra Tree Regressor'\n",
        "pred=model1.predict(x_test) #predicting values of y for all the xtest rows\n",
        "metrics['testRMSE']=mean_squared_error(y_test,pred)**0.5\n",
        "modelList.append(metrics)\n",
        "modelList"
      ],
      "metadata": {
        "colab": {
          "base_uri": "https://localhost:8080/"
        },
        "id": "Jg_kIhBSY3vL",
        "outputId": "e06d9201-2b88-461c-e94a-ce36eb89264d"
      },
      "execution_count": 590,
      "outputs": [
        {
          "output_type": "execute_result",
          "data": {
            "text/plain": [
              "[{'modelName': 'Extra Tree Regressor', 'testRMSE': 0.5090748693831586}]"
            ]
          },
          "metadata": {},
          "execution_count": 590
        }
      ]
    },
    {
      "cell_type": "code",
      "source": [
        "#plot graph of feature importances for better visualization\n",
        "feat_importances = pd.Series(model1.feature_importances_,total_cols)\n",
        "feat_importances.nlargest(5).plot(kind='barh')\n",
        "plt.show()"
      ],
      "metadata": {
        "colab": {
          "base_uri": "https://localhost:8080/",
          "height": 267
        },
        "id": "VGf7S0R0MmIu",
        "outputId": "7d81f089-f7d9-4898-d1d3-4bf94f393be4"
      },
      "execution_count": 593,
      "outputs": [
        {
          "output_type": "display_data",
          "data": {
            "image/png": "[encoded data removed]",
            "text/plain": [
              "<Figure size 432x288 with 1 Axes>"
            ]
          },
          "metadata": {
            "needs_background": "light"
          }
        }
      ]
    },
    {
      "cell_type": "code",
      "source": [
        "#CReate Random Forest Regressor\n",
        "\n",
        "regressor=RandomForestRegressor()\n",
        "\n"
      ],
      "metadata": {
        "id": "0B0eYHv-ZN8Y"
      },
      "execution_count": 594,
      "outputs": []
    },
    {
      "cell_type": "code",
      "source": [
        "n_estimators = [int(x) for x in np.linspace(start = 100, stop = 1200, num = 12)]\n",
        "# Number of features to consider at every split\n",
        "max_features = ['auto', 'sqrt']\n",
        "# Maximum number of levels in tree\n",
        "max_depth = [int(x) for x in np.linspace(5, 30, num = 6)]\n",
        "# max_depth.append(None)\n",
        "# Minimum number of samples required to split a node\n",
        "min_samples_split = [2, 5, 10, 15, 100]\n",
        "# Minimum number of samples required at each leaf node\n",
        "min_samples_leaf = [1, 2, 5, 10]"
      ],
      "metadata": {
        "id": "dgJD2mzJZrW6"
      },
      "execution_count": 595,
      "outputs": []
    },
    {
      "cell_type": "code",
      "source": [
        "# Create the random grid\n",
        "random_grid = {'n_estimators': n_estimators,\n",
        "               'max_features': max_features,\n",
        "               'max_depth': max_depth,\n",
        "               'min_samples_split': min_samples_split,\n",
        "               'min_samples_leaf': min_samples_leaf}\n",
        "\n",
        "print(random_grid)"
      ],
      "metadata": {
        "colab": {
          "base_uri": "https://localhost:8080/"
        },
        "id": "YKAPANzuMkt2",
        "outputId": "13d28c03-7003-4b6d-e90e-e5ed1c5a3ffa"
      },
      "execution_count": null,
      "outputs": [
        {
          "output_type": "stream",
          "name": "stdout",
          "text": [
            "{'n_estimators': [100, 200, 300, 400, 500, 600, 700, 800, 900, 1000, 1100, 1200], 'max_features': ['auto', 'sqrt'], 'max_depth': [5, 10, 15, 20, 25, 30], 'min_samples_split': [2, 5, 10, 15, 100], 'min_samples_leaf': [1, 2, 5, 10]}\n"
          ]
        }
      ]
    },
    {
      "cell_type": "code",
      "source": [
        "# Use the random grid to search for best hyperparameters\n",
        "# First create the base model to tune\n",
        "rf = RandomForestRegressor()\n",
        "rf_random = RandomizedSearchCV(estimator = rf, param_distributions = random_grid,scoring='neg_mean_squared_error', n_iter = 10, cv = 5, verbose=2)\n",
        "rf_random.fit(x_train,y_train)"
      ],
      "metadata": {
        "colab": {
          "base_uri": "https://localhost:8080/"
        },
        "id": "FUcseuo3Z65z",
        "outputId": "11b92643-4f03-4e84-b4c5-0a6ce697f4c6"
      },
      "execution_count": null,
      "outputs": [
        {
          "output_type": "stream",
          "name": "stdout",
          "text": [
            "Fitting 5 folds for each of 10 candidates, totalling 50 fits\n",
            "[CV] END max_depth=30, max_features=sqrt, min_samples_leaf=2, min_samples_split=10, n_estimators=1000; total time=   9.8s\n",
            "[CV] END max_depth=30, max_features=sqrt, min_samples_leaf=2, min_samples_split=10, n_estimators=1000; total time=   6.7s\n",
            "[CV] END max_depth=30, max_features=sqrt, min_samples_leaf=2, min_samples_split=10, n_estimators=1000; total time=   6.7s\n",
            "[CV] END max_depth=30, max_features=sqrt, min_samples_leaf=2, min_samples_split=10, n_estimators=1000; total time=   6.5s\n",
            "[CV] END max_depth=30, max_features=sqrt, min_samples_leaf=2, min_samples_split=10, n_estimators=1000; total time=   6.5s\n",
            "[CV] END max_depth=30, max_features=sqrt, min_samples_leaf=1, min_samples_split=10, n_estimators=600; total time=   4.2s\n",
            "[CV] END max_depth=30, max_features=sqrt, min_samples_leaf=1, min_samples_split=10, n_estimators=600; total time=   4.4s\n",
            "[CV] END max_depth=30, max_features=sqrt, min_samples_leaf=1, min_samples_split=10, n_estimators=600; total time=   4.2s\n",
            "[CV] END max_depth=30, max_features=sqrt, min_samples_leaf=1, min_samples_split=10, n_estimators=600; total time=   4.3s\n",
            "[CV] END max_depth=30, max_features=sqrt, min_samples_leaf=1, min_samples_split=10, n_estimators=600; total time=   4.3s\n",
            "[CV] END max_depth=10, max_features=auto, min_samples_leaf=1, min_samples_split=5, n_estimators=700; total time=  12.1s\n",
            "[CV] END max_depth=10, max_features=auto, min_samples_leaf=1, min_samples_split=5, n_estimators=700; total time=  12.0s\n",
            "[CV] END max_depth=10, max_features=auto, min_samples_leaf=1, min_samples_split=5, n_estimators=700; total time=  11.6s\n",
            "[CV] END max_depth=10, max_features=auto, min_samples_leaf=1, min_samples_split=5, n_estimators=700; total time=  13.5s\n",
            "[CV] END max_depth=10, max_features=auto, min_samples_leaf=1, min_samples_split=5, n_estimators=700; total time=  13.2s\n",
            "[CV] END max_depth=30, max_features=auto, min_samples_leaf=1, min_samples_split=100, n_estimators=200; total time=   3.2s\n",
            "[CV] END max_depth=30, max_features=auto, min_samples_leaf=1, min_samples_split=100, n_estimators=200; total time=   3.3s\n",
            "[CV] END max_depth=30, max_features=auto, min_samples_leaf=1, min_samples_split=100, n_estimators=200; total time=   3.2s\n",
            "[CV] END max_depth=30, max_features=auto, min_samples_leaf=1, min_samples_split=100, n_estimators=200; total time=   3.2s\n",
            "[CV] END max_depth=30, max_features=auto, min_samples_leaf=1, min_samples_split=100, n_estimators=200; total time=   3.3s\n",
            "[CV] END max_depth=20, max_features=sqrt, min_samples_leaf=2, min_samples_split=100, n_estimators=100; total time=   0.5s\n",
            "[CV] END max_depth=20, max_features=sqrt, min_samples_leaf=2, min_samples_split=100, n_estimators=100; total time=   0.5s\n",
            "[CV] END max_depth=20, max_features=sqrt, min_samples_leaf=2, min_samples_split=100, n_estimators=100; total time=   0.5s\n",
            "[CV] END max_depth=20, max_features=sqrt, min_samples_leaf=2, min_samples_split=100, n_estimators=100; total time=   0.5s\n",
            "[CV] END max_depth=20, max_features=sqrt, min_samples_leaf=2, min_samples_split=100, n_estimators=100; total time=   0.5s\n",
            "[CV] END max_depth=15, max_features=auto, min_samples_leaf=10, min_samples_split=10, n_estimators=1100; total time=  19.6s\n",
            "[CV] END max_depth=15, max_features=auto, min_samples_leaf=10, min_samples_split=10, n_estimators=1100; total time=  22.9s\n",
            "[CV] END max_depth=15, max_features=auto, min_samples_leaf=10, min_samples_split=10, n_estimators=1100; total time=  23.0s\n",
            "[CV] END max_depth=15, max_features=auto, min_samples_leaf=10, min_samples_split=10, n_estimators=1100; total time=  22.3s\n",
            "[CV] END max_depth=15, max_features=auto, min_samples_leaf=10, min_samples_split=10, n_estimators=1100; total time=  23.9s\n",
            "[CV] END max_depth=30, max_features=auto, min_samples_leaf=5, min_samples_split=10, n_estimators=1100; total time=  31.6s\n",
            "[CV] END max_depth=30, max_features=auto, min_samples_leaf=5, min_samples_split=10, n_estimators=1100; total time=  30.2s\n",
            "[CV] END max_depth=30, max_features=auto, min_samples_leaf=5, min_samples_split=10, n_estimators=1100; total time=  34.4s\n",
            "[CV] END max_depth=30, max_features=auto, min_samples_leaf=5, min_samples_split=10, n_estimators=1100; total time=  26.6s\n",
            "[CV] END max_depth=30, max_features=auto, min_samples_leaf=5, min_samples_split=10, n_estimators=1100; total time=  30.5s\n",
            "[CV] END max_depth=15, max_features=sqrt, min_samples_leaf=10, min_samples_split=100, n_estimators=400; total time=   1.8s\n",
            "[CV] END max_depth=15, max_features=sqrt, min_samples_leaf=10, min_samples_split=100, n_estimators=400; total time=   1.8s\n",
            "[CV] END max_depth=15, max_features=sqrt, min_samples_leaf=10, min_samples_split=100, n_estimators=400; total time=   1.8s\n",
            "[CV] END max_depth=15, max_features=sqrt, min_samples_leaf=10, min_samples_split=100, n_estimators=400; total time=   1.8s\n",
            "[CV] END max_depth=15, max_features=sqrt, min_samples_leaf=10, min_samples_split=100, n_estimators=400; total time=   1.8s\n",
            "[CV] END max_depth=10, max_features=auto, min_samples_leaf=5, min_samples_split=2, n_estimators=800; total time=  16.1s\n",
            "[CV] END max_depth=10, max_features=auto, min_samples_leaf=5, min_samples_split=2, n_estimators=800; total time=  19.9s\n",
            "[CV] END max_depth=10, max_features=auto, min_samples_leaf=5, min_samples_split=2, n_estimators=800; total time=  12.8s\n",
            "[CV] END max_depth=10, max_features=auto, min_samples_leaf=5, min_samples_split=2, n_estimators=800; total time=  12.8s\n",
            "[CV] END max_depth=10, max_features=auto, min_samples_leaf=5, min_samples_split=2, n_estimators=800; total time=  12.8s\n",
            "[CV] END max_depth=15, max_features=auto, min_samples_leaf=10, min_samples_split=10, n_estimators=1200; total time=  21.0s\n",
            "[CV] END max_depth=15, max_features=auto, min_samples_leaf=10, min_samples_split=10, n_estimators=1200; total time=  21.1s\n",
            "[CV] END max_depth=15, max_features=auto, min_samples_leaf=10, min_samples_split=10, n_estimators=1200; total time=  21.9s\n",
            "[CV] END max_depth=15, max_features=auto, min_samples_leaf=10, min_samples_split=10, n_estimators=1200; total time=  21.0s\n",
            "[CV] END max_depth=15, max_features=auto, min_samples_leaf=10, min_samples_split=10, n_estimators=1200; total time=  21.3s\n"
          ]
        },
        {
          "output_type": "execute_result",
          "data": {
            "text/plain": [
              "RandomizedSearchCV(cv=5, estimator=RandomForestRegressor(),\n",
              "                   param_distributions={'max_depth': [5, 10, 15, 20, 25, 30],\n",
              "                                        'max_features': ['auto', 'sqrt'],\n",
              "                                        'min_samples_leaf': [1, 2, 5, 10],\n",
              "                                        'min_samples_split': [2, 5, 10, 15,\n",
              "                                                              100],\n",
              "                                        'n_estimators': [100, 200, 300, 400,\n",
              "                                                         500, 600, 700, 800,\n",
              "                                                         900, 1000, 1100,\n",
              "                                                         1200]},\n",
              "                   scoring='neg_mean_squared_error', verbose=2)"
            ]
          },
          "metadata": {},
          "execution_count": 493
        }
      ]
    },
    {
      "cell_type": "code",
      "source": [
        "best_params=rf_random.best_params_\n",
        "best_params"
      ],
      "metadata": {
        "colab": {
          "base_uri": "https://localhost:8080/"
        },
        "id": "_uAjd_EBciky",
        "outputId": "e4c32b60-e171-4277-ab1b-15d469126087"
      },
      "execution_count": null,
      "outputs": [
        {
          "output_type": "execute_result",
          "data": {
            "text/plain": [
              "{'max_depth': 30,\n",
              " 'max_features': 'sqrt',\n",
              " 'min_samples_leaf': 1,\n",
              " 'min_samples_split': 10,\n",
              " 'n_estimators': 600}"
            ]
          },
          "metadata": {},
          "execution_count": 495
        }
      ]
    },
    {
      "cell_type": "code",
      "source": [
        "rfregressor = RandomForestRegressor(min_samples_leaf = best_params['min_samples_leaf']\n",
        "                                     ,min_samples_split= best_params['min_samples_split'],\n",
        "                                     n_estimators =best_params['n_estimators'],max_features=best_params['max_features'],\n",
        "                                    max_depth=best_params['max_depth']\n",
        "                                    )\n",
        "rfregressor.fit(x_train,y_train)\n",
        "\n"
      ],
      "metadata": {
        "colab": {
          "base_uri": "https://localhost:8080/"
        },
        "id": "rdxIwLM5ajop",
        "outputId": "e303e1da-5413-44e4-e7ef-21bf1fdb8415"
      },
      "execution_count": null,
      "outputs": [
        {
          "output_type": "execute_result",
          "data": {
            "text/plain": [
              "RandomForestRegressor(max_depth=30, max_features='sqrt', min_samples_split=10,\n",
              "                      n_estimators=600)"
            ]
          },
          "metadata": {},
          "execution_count": 497
        }
      ]
    },
    {
      "cell_type": "code",
      "source": [
        "pred=rfregressor.predict(x_test) #predicting values of y for all the xtest rows\n",
        "mse=mean_squared_error(y_test,pred)\n",
        "rmse=round(mse**0.5,2)\n",
        "metrics={}\n",
        "metrics['modelName']='Random Forest Regressor'\n",
        " #predicting values of y for all the xtest rows\n",
        "metrics['testRMSE']=rmse\n",
        "modelList.append(metrics)\n",
        "modelList"
      ],
      "metadata": {
        "colab": {
          "base_uri": "https://localhost:8080/"
        },
        "id": "6yBiGvy7ajtl",
        "outputId": "a0b848f1-a579-4aa6-9f8f-d9131aa15076"
      },
      "execution_count": null,
      "outputs": [
        {
          "output_type": "execute_result",
          "data": {
            "text/plain": [
              "[{'modelName': 'Extra Tree Regressor', 'testRMSE': 0.5091794289543339},\n",
              " {'modelName': 'KNN Regressor', 'testRMSE': 0.52},\n",
              " {'modelName': 'Random Forest Regressor', 'testRMSE': 0.47}]"
            ]
          },
          "metadata": {},
          "execution_count": 512
        }
      ]
    },
    {
      "cell_type": "code",
      "source": [
        "#Create KNN Model\n",
        "# Look at the 15 closest neighbors\n",
        "knn_model = KNeighborsRegressor(n_neighbors=20)\n",
        "# Find the mean accuracy of knn regression using X_test and y_test\n",
        "knn_model.fit(x_train, y_train)\n"
      ],
      "metadata": {
        "colab": {
          "base_uri": "https://localhost:8080/"
        },
        "id": "3Jlc4a8sajzg",
        "outputId": "b2798b51-3241-49e0-a284-87aade314c0f"
      },
      "execution_count": 596,
      "outputs": [
        {
          "output_type": "execute_result",
          "data": {
            "text/plain": [
              "KNeighborsRegressor(n_neighbors=20)"
            ]
          },
          "metadata": {},
          "execution_count": 596
        }
      ]
    },
    {
      "cell_type": "code",
      "source": [
        "#Choose optimal value of K"
      ],
      "metadata": {
        "id": "cxQrURaaejV7"
      },
      "execution_count": null,
      "outputs": []
    },
    {
      "cell_type": "code",
      "source": [
        "metrics={}\n",
        "pred=knn_model.predict(x_test) #predicting values of y for all the xtest rows\n",
        "mse=mean_squared_error(y_test,pred)\n",
        "rmse=round(mse**0.5,2)\n",
        "metrics['modelName']='KNN Regressor'\n",
        " #predicting values of y for all the xtest rows\n",
        "metrics['testRMSE']=rmse\n",
        "modelList.append(metrics)\n",
        "modelList"
      ],
      "metadata": {
        "colab": {
          "base_uri": "https://localhost:8080/"
        },
        "id": "BbekSo8BeAoU",
        "outputId": "919251da-7b0a-4c48-90dd-6135cd71c54b"
      },
      "execution_count": 600,
      "outputs": [
        {
          "output_type": "execute_result",
          "data": {
            "text/plain": [
              "[{'modelName': 'Extra Tree Regressor', 'testRMSE': 0.5090748693831586},\n",
              " {'modelName': 'KNN Regressor', 'testRMSE': 0.52},\n",
              " {'modelName': 'Random Forest Regressor', 'testRMSE': 0.47}]"
            ]
          },
          "metadata": {},
          "execution_count": 600
        }
      ]
    },
    {
      "cell_type": "markdown",
      "source": [
        "# KNN model has the lowest RMSE"
      ],
      "metadata": {
        "id": "OzWbMkcWK82F"
      }
    },
    {
      "cell_type": "markdown",
      "source": [
        "#Save the model and use for further predictions"
      ],
      "metadata": {
        "id": "8HVhEMvfBjC7"
      }
    },
    {
      "cell_type": "code",
      "source": [
        "# saving the model to the local file system\n",
        "filename1 = 'regression_model.pickle'\n",
        "pickle.dump(knn_model, open(filename1, 'wb'))\n",
        "fileName2= 'scaler_transformation.pickle'\n",
        "pickle.dump(scaler, open(fileName2, 'wb'))\n",
        "# prediction using the saved model"
      ],
      "metadata": {
        "id": "hNTi68kAfaUZ"
      },
      "execution_count": 601,
      "outputs": []
    },
    {
      "cell_type": "code",
      "source": [
        "#Save top10 Categories and to10 version\n",
        "filename1 = 'top10version.pickle'\n",
        "pickle.dump(top10_androidv, open(filename1, 'wb'))\n",
        "fileName2= 'top10categories.pickle'\n",
        "pickle.dump(top10_categories, open(fileName2, 'wb'))"
      ],
      "metadata": {
        "id": "Ny-3Eo_dqi0H"
      },
      "execution_count": 607,
      "outputs": []
    },
    {
      "cell_type": "code",
      "source": [
        "#Save dummy columns\n",
        "filename3='dummyColumns.pickle'\n",
        "pickle.dump(list(df.columns[26:]), open(filename3, 'wb'))\n"
      ],
      "metadata": {
        "id": "mrS_WxN8wRHE"
      },
      "execution_count": 638,
      "outputs": []
    },
    {
      "cell_type": "code",
      "source": [
        "print(\"I/P features must be in following order :\")\n",
        "total_cols"
      ],
      "metadata": {
        "colab": {
          "base_uri": "https://localhost:8080/"
        },
        "id": "WJovMJ-Mn6b0",
        "outputId": "fe4f950a-7b76-4ebf-f883-85917b8ff18d"
      },
      "execution_count": 602,
      "outputs": [
        {
          "output_type": "stream",
          "name": "stdout",
          "text": [
            "I/P features must be in following form :\n"
          ]
        },
        {
          "output_type": "execute_result",
          "data": {
            "text/plain": [
              "['Reviews',\n",
              " 'Size',\n",
              " 'Installs',\n",
              " 'Price',\n",
              " 'Date_Diff',\n",
              " '4.1 and up',\n",
              " 'Varies with device',\n",
              " '4.0.3 and up',\n",
              " '4.0 and up',\n",
              " '4.4 and up',\n",
              " '2.3 and up',\n",
              " '5.0 and up',\n",
              " '4.2 and up',\n",
              " '2.3.3 and up',\n",
              " '3.0 and up',\n",
              " 'FAMILY',\n",
              " 'GAME',\n",
              " 'TOOLS',\n",
              " 'PRODUCTIVITY',\n",
              " 'MEDICAL',\n",
              " 'COMMUNICATION',\n",
              " 'FINANCE',\n",
              " 'SPORTS',\n",
              " 'PHOTOGRAPHY',\n",
              " 'LIFESTYLE',\n",
              " 'Type_Paid',\n",
              " 'Content Rating_Everyone',\n",
              " 'Content Rating_Everyone 10+',\n",
              " 'Content Rating_Mature 17+',\n",
              " 'Content Rating_Teen',\n",
              " 'Content Rating_Unrated']"
            ]
          },
          "metadata": {},
          "execution_count": 602
        }
      ]
    },
    {
      "cell_type": "markdown",
      "source": [
        "## Data preprocessing for Test data"
      ],
      "metadata": {
        "id": "K6UZKcpVCGCL"
      }
    },
    {
      "cell_type": "code",
      "source": [
        "#For example we are trying to test on a dummy data\n",
        "df_copy=pd.read_csv(\"googleplaystore.csv\")\n",
        "rawInput=dict(df_copy.iloc[0])\n",
        "print(rawInput)"
      ],
      "metadata": {
        "colab": {
          "base_uri": "https://localhost:8080/"
        },
        "id": "BdSI5uCRg2jc",
        "outputId": "dbeadc01-1973-4217-b1f7-d8502e428794"
      },
      "execution_count": 615,
      "outputs": [
        {
          "output_type": "stream",
          "name": "stdout",
          "text": [
            "{'App': 'Photo Editor & Candy Camera & Grid & ScrapBook', 'Category': 'ART_AND_DESIGN', 'Rating': 4.1, 'Reviews': '159', 'Size': '19M', 'Installs': '10,000+', 'Type': 'Free', 'Price': '0', 'Content Rating': 'Everyone', 'Genres': 'Art & Design', 'Last Updated': 'January 7, 2018', 'Current Ver': '1.0.0', 'Android Ver': '4.0.3 and up'}\n"
          ]
        }
      ]
    },
    {
      "cell_type": "code",
      "source": [
        "lastUpdated=pd.to_datetime(rawInput['Last Updated'])\n",
        "#Caluclate new colums\n",
        "date2=pd.to_datetime('now')\n",
        "print(date2)\n",
        "diff=(date2-lastUpdated).days\n",
        "print(diff)\n",
        "input_transform= collections.OrderedDict()\n",
        "input_transform['Reviews']=rawInput['Reviews']\n",
        "input_transform['Size']=rawInput['Reviews']\n",
        "input_transform['Installs']=rawInput['Installs']\n",
        "input_transform['Price']=rawInput['Price']\n",
        "input_transform['Date_diff']=diff\n",
        "input_transform\n",
        "\n"
      ],
      "metadata": {
        "colab": {
          "base_uri": "https://localhost:8080/"
        },
        "id": "WXcFKLFEomZb",
        "outputId": "cbc1190b-0564-40e8-f6d9-f710e60f23ac"
      },
      "execution_count": 632,
      "outputs": [
        {
          "output_type": "stream",
          "name": "stdout",
          "text": [
            "2021-12-25 03:59:55.962445\n",
            "1448\n"
          ]
        },
        {
          "output_type": "execute_result",
          "data": {
            "text/plain": [
              "OrderedDict([('Reviews', '159'),\n",
              "             ('Size', '159'),\n",
              "             ('Installs', '10,000+'),\n",
              "             ('Price', '0'),\n",
              "             ('Date_diff', 1448)])"
            ]
          },
          "metadata": {},
          "execution_count": 632
        }
      ]
    },
    {
      "cell_type": "code",
      "source": [
        "open_file1 = open('top10version.pickle', \"rb\")\n",
        "version_list = pickle.load(open_file1)\n",
        "print(version_list)\n",
        "open_file2 = open('top10categories.pickle', \"rb\")\n",
        "cat_list = pickle.load(open_file2)\n",
        "print(cat_list)\n",
        "open_file1.close()\n",
        "open_file2.close()"
      ],
      "metadata": {
        "colab": {
          "base_uri": "https://localhost:8080/"
        },
        "id": "1IkL338AsDfQ",
        "outputId": "f49043b4-b5ae-49a2-b652-ee2b98e732b5"
      },
      "execution_count": 614,
      "outputs": [
        {
          "output_type": "stream",
          "name": "stdout",
          "text": [
            "['4.1 and up', 'Varies with device', '4.0.3 and up', '4.0 and up', '4.4 and up', '2.3 and up', '5.0 and up', '4.2 and up', '2.3.3 and up', '3.0 and up']\n",
            "['FAMILY', 'GAME', 'TOOLS', 'PRODUCTIVITY', 'MEDICAL', 'COMMUNICATION', 'FINANCE', 'SPORTS', 'PHOTOGRAPHY', 'LIFESTYLE']\n"
          ]
        }
      ]
    },
    {
      "cell_type": "code",
      "source": [
        "for version in version_list:\n",
        "    input_transform[version]=int(np.where(rawInput['Android Ver']==version,int(1),int(0)))\n",
        "for category in cat_list:\n",
        "    input_transform[category]=int(np.where(rawInput['Category']==category,int(1),int(0)))\n",
        "input_transform"
      ],
      "metadata": {
        "colab": {
          "base_uri": "https://localhost:8080/"
        },
        "id": "Mxr-Q33Ur3hr",
        "outputId": "b13a2bbc-8990-4ffb-d1ac-e3a2e753c5b2"
      },
      "execution_count": 633,
      "outputs": [
        {
          "output_type": "execute_result",
          "data": {
            "text/plain": [
              "OrderedDict([('Reviews', '159'),\n",
              "             ('Size', '159'),\n",
              "             ('Installs', '10,000+'),\n",
              "             ('Price', '0'),\n",
              "             ('Date_diff', 1448),\n",
              "             ('4.1 and up', 0),\n",
              "             ('Varies with device', 0),\n",
              "             ('4.0.3 and up', 1),\n",
              "             ('4.0 and up', 0),\n",
              "             ('4.4 and up', 0),\n",
              "             ('2.3 and up', 0),\n",
              "             ('5.0 and up', 0),\n",
              "             ('4.2 and up', 0),\n",
              "             ('2.3.3 and up', 0),\n",
              "             ('3.0 and up', 0),\n",
              "             ('FAMILY', 0),\n",
              "             ('GAME', 0),\n",
              "             ('TOOLS', 0),\n",
              "             ('PRODUCTIVITY', 0),\n",
              "             ('MEDICAL', 0),\n",
              "             ('COMMUNICATION', 0),\n",
              "             ('FINANCE', 0),\n",
              "             ('SPORTS', 0),\n",
              "             ('PHOTOGRAPHY', 0),\n",
              "             ('LIFESTYLE', 0)])"
            ]
          },
          "metadata": {},
          "execution_count": 633
        }
      ]
    },
    {
      "cell_type": "code",
      "source": [
        "#Load Dummy columns\n",
        "open_file1 = open('dummyColumns.pickle', \"rb\")\n",
        "dummycolumns = pickle.load(open_file1)\n",
        "print(dummycolumns)\n",
        "for column in dummycolumns[0:1]:\n",
        "    input_transform[column]=int(np.where(rawInput['Type']==column.split(\"_\")[1],int(1),int(0)))\n",
        "for column in dummycolumns[1:]:\n",
        "    input_transform[column]=int(np.where(rawInput['Content Rating']==column.split(\"_\")[1],int(1),int(0)))\n"
      ],
      "metadata": {
        "colab": {
          "base_uri": "https://localhost:8080/"
        },
        "id": "mT4nFKJ3w_if",
        "outputId": "b4d5693f-0464-451b-86c3-ed13dfdc3460"
      },
      "execution_count": 651,
      "outputs": [
        {
          "output_type": "stream",
          "name": "stdout",
          "text": [
            "['Type_Paid', 'Content Rating_Everyone', 'Content Rating_Everyone 10+', 'Content Rating_Mature 17+', 'Content Rating_Teen', 'Content Rating_Unrated']\n"
          ]
        }
      ]
    },
    {
      "cell_type": "code",
      "source": [
        "#Scale the first 5 numerical variables\n",
        "input_transform['Installs']=10000\n",
        "dictValues=list(input_transform.values())\n",
        "print(dictValues)\n",
        "dictValues[:5]"
      ],
      "metadata": {
        "colab": {
          "base_uri": "https://localhost:8080/"
        },
        "id": "qSZsbZlzyeOD",
        "outputId": "602ad39a-4bed-4b7a-b3af-3deaeabd76ef"
      },
      "execution_count": 661,
      "outputs": [
        {
          "output_type": "stream",
          "name": "stdout",
          "text": [
            "['159', '159', 10000, '0', 1448, 0, 0, 1, 0, 0, 0, 0, 0, 0, 0, 0, 0, 0, 0, 0, 0, 0, 0, 0, 0, 0, 1, 0, 0, 0, 0]\n"
          ]
        },
        {
          "output_type": "execute_result",
          "data": {
            "text/plain": [
              "['159', '159', 10000, '0', 1448]"
            ]
          },
          "metadata": {},
          "execution_count": 661
        }
      ]
    },
    {
      "cell_type": "code",
      "source": [
        "#scale the values by loading pickle files\n",
        "temp_scaled=None\n",
        "cat_columns=dictValues[5:]\n",
        "scaler_pickle = pickle.load(open('scaler_transformation.pickle','rb'))\n",
        "temp_scaled=scaler.transform([dictValues[:5]])\n",
        "temp_scaled\n",
        "\n"
      ],
      "metadata": {
        "colab": {
          "base_uri": "https://localhost:8080/"
        },
        "id": "RpBYf-FayOXi",
        "outputId": "e32af8d5-cfa4-420e-dc47-f667692f2f25"
      },
      "execution_count": 713,
      "outputs": [
        {
          "output_type": "stream",
          "name": "stderr",
          "text": [
            "/usr/local/lib/python3.7/dist-packages/sklearn/base.py:446: UserWarning: X does not have valid feature names, but StandardScaler was fitted with feature names\n",
            "  \"X does not have valid feature names, but\"\n"
          ]
        },
        {
          "output_type": "execute_result",
          "data": {
            "text/plain": [
              "array([[-0.16347574, -0.81639782, -0.19608432, -0.06075413, -0.09743416]])"
            ]
          },
          "metadata": {},
          "execution_count": 713
        }
      ]
    },
    {
      "cell_type": "code",
      "source": [
        "tt=np.array(dictValues[5:]).reshape(1,-1)\n",
        "temp_scaled=np.column_stack((temp_scaled,tt))\n",
        "print(temp_scaled)\n",
        "print(temp_scaled.shape)\n"
      ],
      "metadata": {
        "colab": {
          "base_uri": "https://localhost:8080/"
        },
        "id": "SXZMIR_G1Fq6",
        "outputId": "c490f51b-1d77-4c77-806a-a873940bf5fa"
      },
      "execution_count": 714,
      "outputs": [
        {
          "output_type": "stream",
          "name": "stdout",
          "text": [
            "[[-0.16347574 -0.81639782 -0.19608432 -0.06075413 -0.09743416  0.\n",
            "   0.          1.          0.          0.          0.          0.\n",
            "   0.          0.          0.          0.          0.          0.\n",
            "   0.          0.          0.          0.          0.          0.\n",
            "   0.          0.          1.          0.          0.          0.\n",
            "   0.        ]]\n",
            "(1, 31)\n"
          ]
        }
      ]
    },
    {
      "cell_type": "code",
      "source": [
        "#Load the model and do predictions\n",
        "#temp_scaled=x_test[20].reshape(1,31)\n",
        "loaded_model = pickle.load(open('regression_model.pickle', 'rb'))\n",
        "predicted_price=loaded_model.predict(temp_scaled)\n",
        "print(\"Predicted Rating of App  is\",round(predicted_price[0],2))"
      ],
      "metadata": {
        "colab": {
          "base_uri": "https://localhost:8080/"
        },
        "id": "bRTILmzw31DB",
        "outputId": "b440061a-eaed-4efb-c981-ff3da074d12c"
      },
      "execution_count": 727,
      "outputs": [
        {
          "output_type": "stream",
          "name": "stdout",
          "text": [
            "Predicted Rating of App  is 4.37\n"
          ]
        }
      ]
    },
    {
      "cell_type": "markdown",
      "source": [
        ""
      ],
      "metadata": {
        "id": "vDUlactx4_7-"
      }
    }
  ]
}